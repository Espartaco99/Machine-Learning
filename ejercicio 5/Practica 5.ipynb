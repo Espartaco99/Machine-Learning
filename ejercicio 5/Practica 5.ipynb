{
 "cells": [
  {
   "cell_type": "code",
   "execution_count": 213,
   "metadata": {
    "collapsed": false
   },
   "outputs": [
    {
     "name": "stdout",
     "output_type": "stream",
     "text": [
      "The Brink\n",
      "0005458 Jason Statham\n",
      "4001497 Jason Staten\n",
      "4836254 Jason Statt\n",
      "8277722 Jason Staten\n",
      "5054914 Jason Staten\n",
      "3820740 Jason Static\n",
      "4872708 Jason States\n",
      "8858553 Jason Statford\n",
      "4022211 Jason Staten\n",
      "8053778 Jason Staten\n",
      "8520427 Jason Kronstat\n",
      "2683454 Jason Starkweather\n"
     ]
    }
   ],
   "source": [
    "from imdb import IMDb\n",
    "ia = IMDb()\n",
    "\n",
    "#the_matrix = ia.get_movie('0133093')\n",
    "#print the_matrix['director']\n",
    "the_matrix = ia.get_movie('0400002')\n",
    "print the_matrix\n",
    "\n",
    "for person in ia.search_person('Jason Statham'):\n",
    "        print person.personID, person['name']"
   ]
  },
  {
   "cell_type": "code",
   "execution_count": 197,
   "metadata": {
    "collapsed": false
   },
   "outputs": [
    {
     "name": "stdout",
     "output_type": "stream",
     "text": [
      "[[ u'Movie\\n=====\\nTitle: Tonto Kid, The (1934)\\nGenres: Action, Adventure, Crime, Drama, Romance, Western.\\nDirector: Harry L. Fraser.\\nWriter: Christopher Booth, Harry L. Fraser.\\nCast: Rex Bell (Skeets Slawson aka The Tonto Kid), Ruth Mix (Nancy Cahill), Buzz Barton (Wesley Fritch), Theodore Lorch (Lawyer Sam Creech), Joseph W. Girard (Rance Cartwright).\\nRuntime: 61.\\nCountry: USA.\\nLanguage: English.\\nRating: 5.8 (24 votes).\\nPlot: Lawyer Creech is after the ranch of the dying Cartwright. First he brings in Cahill to pose as the only living relative. Then when the Tonto Kid finds platinum on the ranch, Creech frames him for murder.']\n",
      " [ u'Movie\\n=====\\nTitle: Torres Vedras (1933)\\nGenres: Documentary.\\nCountry: Portugal.\\n']\n",
      " [ u'Movie\\n=====\\nTitle: Torres Vedras e o Carnaval de 1933 (1933)\\nGenres: Documentary.\\nCountry: Portugal.\\n']\n",
      " [ u'Movie\\n=====\\nTitle: Tractores Citroen no Ex\\xe9rcito Portugu\\xeas (1933)\\nGenres: Documentary.\\nDirector: Mota da Costa.\\nCountry: Portugal.\\nLanguage: Portuguese.\\n']\n",
      " [ u'Movie\\n=====\\nTitle: Hapax Legomena IV: Travelling Matte (1971)\\nDirector: Hollis Frampton.\\nCountry: USA.\\nRating: 6.7 (18 votes).\\n']\n",
      " [ u'Movie\\n=====\\nTitle: tribunal de las Aguas, El (1960)\\nGenres: Documentary, Short.\\nDirector: Alberto Carles Blat.\\nWriter: Alberto Carles Blat.\\nCast: Juan Mart\\xedn Navas.\\nRuntime: 10.\\nCountry: Spain.\\n']\n",
      " [ u'Movie\\n=====\\nTitle: True Story of Eskimo Nell, The (1975)\\nGenres: Comedy, Western.\\nDirector: Richard Franklin.\\nWriter: Richard Franklin, Alan Hopgood.\\nCast: Max Gillies (Deadeye Dick), Serge Lazareff (Mexico Pete), Butcher Vachon (The Alaskan Kid), Jerry Thomas (The Sprunker), Kurt Beimel (Waldo the Great).\\nRuntime: 103.\\nCountry: Australia.\\nLanguage: English.\\nRating: 4.9 (58 votes).\\n']\n",
      " [ u'Movie\\n=====\\nTitle: Two Idiots in Hollywood (1988)\\nGenres: Musical, Comedy.\\nDirector: Stephen Tobolowsky.\\nWriter: Stephen Tobolowsky, Stephen Tobolowsky.\\nCast: Jim McGrath (Murphy Wegg), Jeff Doucette (Taylor Dup), Cheryl Anderson (Marianne Plambo), Kat Sawyer, Lisa Robins (NBA Casting Secretary).\\nRuntime: 85.\\nCountry: USA.\\nLanguage: English.\\nRating: 6.6 (92 votes).\\nPlot: Idiots Taylor Dupp and Murphy Wegg flee their humdrum existence in Dayton, Ohio for the glamour of Hollywood. Murphy turns his complete lack of talent into a career as a television producer (\"The Pac-Man Show\"), while Taylor is unjustly accused of murder.']]\n"
     ]
    }
   ],
   "source": [
    "import pandas as pd\n",
    "lista=[]\n",
    "\n",
    "for i in range(0400000,0400010,1):\n",
    "    peli = ia.get_movie(i)\n",
    "    lista.append(peli.summary())\n",
    "\n",
    "    \n",
    "datos = pd.DataFrame(lista)\n",
    "print datos.values\n"
   ]
  },
  {
   "cell_type": "code",
   "execution_count": 272,
   "metadata": {
    "collapsed": false
   },
   "outputs": [],
   "source": [
    "#datos[0][0]"
   ]
  },
  {
   "cell_type": "code",
   "execution_count": null,
   "metadata": {
    "collapsed": false
   },
   "outputs": [],
   "source": [
    "import pandas as pd\n",
    "lista=[]\n",
    "datos = pd.DataFrame([])\n",
    "for i in range(0005000,0005003):\n",
    "        lista.append(ia.get_movie(i))\n",
    "        lista.append(ia.get_movie_plot(i))\n",
    "        lista.append(ia.get_movie_airing(i))\n",
    "\n",
    "        datos = datos.append(lista)\n",
    "\n",
    "print datos.values"
   ]
  },
  {
   "cell_type": "markdown",
   "metadata": {},
   "source": [
    "# Guardamos el top 250 dentro de elastic search"
   ]
  },
  {
   "cell_type": "code",
   "execution_count": 281,
   "metadata": {
    "collapsed": false
   },
   "outputs": [],
   "source": [
    "#Lista con el top 250\n",
    "top = ia.get_top250_movies()\n",
    "for i in range(0,250):\n",
    "    es.index(index='films-index', doc_type='text', id=i, body=top[i].data)\n"
   ]
  },
  {
   "cell_type": "code",
   "execution_count": 279,
   "metadata": {
    "collapsed": false
   },
   "outputs": [
    {
     "ename": "TypeError",
     "evalue": "count() takes exactly one argument (0 given)",
     "output_type": "error",
     "traceback": [
      "\u001b[0;31m---------------------------------------------------------------------------\u001b[0m",
      "\u001b[0;31mTypeError\u001b[0m                                 Traceback (most recent call last)",
      "\u001b[0;32m<ipython-input-279-c706210be041>\u001b[0m in \u001b[0;36m<module>\u001b[0;34m()\u001b[0m\n\u001b[0;32m----> 1\u001b[0;31m \u001b[1;32mprint\u001b[0m \u001b[0mtop\u001b[0m\u001b[1;33m.\u001b[0m\u001b[0mcount\u001b[0m\u001b[1;33m(\u001b[0m\u001b[1;33m)\u001b[0m\u001b[1;33m\u001b[0m\u001b[0m\n\u001b[0m",
      "\u001b[0;31mTypeError\u001b[0m: count() takes exactly one argument (0 given)"
     ]
    }
   ],
   "source": []
  },
  {
   "cell_type": "code",
   "execution_count": 265,
   "metadata": {
    "collapsed": false
   },
   "outputs": [],
   "source": [
    "idPeli = film.movieID\n"
   ]
  },
  {
   "cell_type": "code",
   "execution_count": 223,
   "metadata": {
    "collapsed": false
   },
   "outputs": [
    {
     "data": {
      "text/plain": [
       "<Movie id:0400000[http] title:_\"Nanalan'\" (2003)_>"
      ]
     },
     "execution_count": 223,
     "metadata": {},
     "output_type": "execute_result"
    }
   ],
   "source": [
    "for i in range(0400000,040002):\n",
    "    peli = ia.get_movie(i)\n",
    "    peli.summary()\n",
    "peli"
   ]
  },
  {
   "cell_type": "code",
   "execution_count": 207,
   "metadata": {
    "collapsed": false
   },
   "outputs": [
    {
     "name": "stdout",
     "output_type": "stream",
     "text": [
      "Movie\n",
      "=====\n",
      "Title: \"Nanalan'\" (2003)\n",
      "Genres: Family.\n",
      "Director: Jason Hopley, Jamie Shannon, Tim Williams.\n",
      "Writer: Jason Hopley, Jamie Shannon.\n",
      "Cast: Todd Doldersum (Mr. Wooka).\n",
      "Country: Canada.\n",
      "Language: English.\n",
      "Rating: 7.8 (167 votes).\n",
      "Plot: A small girl has adventures in her grandmother's back yard.\n"
     ]
    }
   ],
   "source": [
    "peli = ia.get_movie('0400000')\n",
    "print peli.summary()"
   ]
  },
  {
   "cell_type": "markdown",
   "metadata": {},
   "source": [
    "# Elastic Seach"
   ]
  },
  {
   "cell_type": "code",
   "execution_count": 271,
   "metadata": {
    "collapsed": false
   },
   "outputs": [
    {
     "name": "stdout",
     "output_type": "stream",
     "text": [
      "{u'rating': 8.9, u'kind': u'movie', u'title': u'The Dark Knight', u'year': 2008}\n",
      "Got 10 Hits:\n",
      "A man throws away an old top hat and a tramp uses it to sole his boots.\n",
      "A man throws away an old top hat and a tramp uses it to sole his boots.\n",
      "A man throws away an old top hat and a tramp uses it to sole his boots.\n",
      "A man throws away an old top hat and a tramp uses it to sole his boots.\n"
     ]
    },
    {
     "ename": "KeyError",
     "evalue": "'text'",
     "output_type": "error",
     "traceback": [
      "\u001b[0;31m---------------------------------------------------------------------------\u001b[0m",
      "\u001b[0;31mKeyError\u001b[0m                                  Traceback (most recent call last)",
      "\u001b[0;32m<ipython-input-271-b426fb989a9c>\u001b[0m in \u001b[0;36m<module>\u001b[0;34m()\u001b[0m\n\u001b[1;32m     19\u001b[0m \u001b[1;32mprint\u001b[0m\u001b[1;33m(\u001b[0m\u001b[1;34m\"Got %d Hits:\"\u001b[0m \u001b[1;33m%\u001b[0m \u001b[0mres\u001b[0m\u001b[1;33m[\u001b[0m\u001b[1;34m'hits'\u001b[0m\u001b[1;33m]\u001b[0m\u001b[1;33m[\u001b[0m\u001b[1;34m'total'\u001b[0m\u001b[1;33m]\u001b[0m\u001b[1;33m)\u001b[0m\u001b[1;33m\u001b[0m\u001b[0m\n\u001b[1;32m     20\u001b[0m \u001b[1;32mfor\u001b[0m \u001b[0mhit\u001b[0m \u001b[1;32min\u001b[0m \u001b[0mres\u001b[0m\u001b[1;33m[\u001b[0m\u001b[1;34m'hits'\u001b[0m\u001b[1;33m]\u001b[0m\u001b[1;33m[\u001b[0m\u001b[1;34m'hits'\u001b[0m\u001b[1;33m]\u001b[0m\u001b[1;33m:\u001b[0m\u001b[1;33m\u001b[0m\u001b[0m\n\u001b[0;32m---> 21\u001b[0;31m     \u001b[1;32mprint\u001b[0m\u001b[1;33m(\u001b[0m\u001b[1;34m\"%(text)s\"\u001b[0m \u001b[1;33m%\u001b[0m \u001b[0mhit\u001b[0m\u001b[1;33m[\u001b[0m\u001b[1;34m\"_source\"\u001b[0m\u001b[1;33m]\u001b[0m\u001b[1;33m)\u001b[0m\u001b[1;33m\u001b[0m\u001b[0m\n\u001b[0m",
      "\u001b[0;31mKeyError\u001b[0m: 'text'"
     ]
    }
   ],
   "source": [
    "from datetime import datetime\n",
    "from elasticsearch import Elasticsearch\n",
    "es = Elasticsearch()\n",
    "'''\n",
    "doc = {\n",
    "    'prueba': 'Holi',\n",
    "    'text': 'A man throws away an old top hat and a tramp uses it to sole his boots.',\n",
    "}\n",
    "res = es.index(index=\"movies-index\", doc_type='text', id=1, body=doc)\n",
    "print(res['created'])\n",
    "'''\n",
    "\n",
    "res = es.get(index=\"movies-index\", doc_type='text', id=6)\n",
    "print(res['_source'])\n",
    "\n",
    "es.indices.refresh(index=\"movies-index\")\n",
    "\n",
    "res = es.search(index=\"movies-index\", body={\"query\": {\"match_all\": {}}})\n",
    "print(\"Got %d Hits:\" % res['hits']['total'])\n",
    "for hit in res['hits']['hits']:\n",
    "    print(\"%(text)s\" % hit[\"_source\"])"
   ]
  },
  {
   "cell_type": "code",
   "execution_count": 285,
   "metadata": {
    "collapsed": false
   },
   "outputs": [
    {
     "name": "stdout",
     "output_type": "stream",
     "text": [
      "Got 250 Hits:\n"
     ]
    },
    {
     "ename": "KeyError",
     "evalue": "'text'",
     "output_type": "error",
     "traceback": [
      "\u001b[0;31m---------------------------------------------------------------------------\u001b[0m",
      "\u001b[0;31mKeyError\u001b[0m                                  Traceback (most recent call last)",
      "\u001b[0;32m<ipython-input-285-2e8500a73e4c>\u001b[0m in \u001b[0;36m<module>\u001b[0;34m()\u001b[0m\n\u001b[1;32m      2\u001b[0m \u001b[1;32mprint\u001b[0m\u001b[1;33m(\u001b[0m\u001b[1;34m\"Got %d Hits:\"\u001b[0m \u001b[1;33m%\u001b[0m \u001b[0mres\u001b[0m\u001b[1;33m[\u001b[0m\u001b[1;34m'hits'\u001b[0m\u001b[1;33m]\u001b[0m\u001b[1;33m[\u001b[0m\u001b[1;34m'total'\u001b[0m\u001b[1;33m]\u001b[0m\u001b[1;33m)\u001b[0m\u001b[1;33m\u001b[0m\u001b[0m\n\u001b[1;32m      3\u001b[0m \u001b[1;32mfor\u001b[0m \u001b[0mhit\u001b[0m \u001b[1;32min\u001b[0m \u001b[0mres\u001b[0m\u001b[1;33m[\u001b[0m\u001b[1;34m'hits'\u001b[0m\u001b[1;33m]\u001b[0m\u001b[1;33m[\u001b[0m\u001b[1;34m'hits'\u001b[0m\u001b[1;33m]\u001b[0m\u001b[1;33m:\u001b[0m\u001b[1;33m\u001b[0m\u001b[0m\n\u001b[0;32m----> 4\u001b[0;31m     \u001b[1;32mprint\u001b[0m\u001b[1;33m(\u001b[0m\u001b[1;34m\"%(text)s\"\u001b[0m \u001b[1;33m%\u001b[0m \u001b[0mhit\u001b[0m\u001b[1;33m[\u001b[0m\u001b[1;34m\"_source\"\u001b[0m\u001b[1;33m]\u001b[0m\u001b[1;33m)\u001b[0m\u001b[1;33m\u001b[0m\u001b[0m\n\u001b[0m",
      "\u001b[0;31mKeyError\u001b[0m: 'text'"
     ]
    }
   ],
   "source": [
    "res = es.search(index=\"films-index\", body={\"query\": {\"match_all\": {}}})\n",
    "print(\"Got %d Hits:\" % res['hits']['total'])\n",
    "#Modificar para que funcione\n",
    "for hit in res['hits']['hits']:\n",
    "    print(\"%(text)s\" % hit[\"_source\"])"
   ]
  },
  {
   "cell_type": "code",
   "execution_count": 62,
   "metadata": {
    "collapsed": false
   },
   "outputs": [
    {
     "name": "stdout",
     "output_type": "stream",
     "text": [
      "{\n",
      "  \"name\" : \"olxdfU7\",\n",
      "  \"cluster_name\" : \"elasticsearch\",\n",
      "  \"cluster_uuid\" : \"DQylXrS0QwCriq9AQDxkSQ\",\n",
      "  \"version\" : {\n",
      "    \"number\" : \"5.4.0\",\n",
      "    \"build_hash\" : \"780f8c4\",\n",
      "    \"build_date\" : \"2017-04-28T17:43:27.229Z\",\n",
      "    \"build_snapshot\" : false,\n",
      "    \"lucene_version\" : \"6.5.0\"\n",
      "  },\n",
      "  \"tagline\" : \"You Know, for Search\"\n",
      "}\n",
      "\n"
     ]
    }
   ],
   "source": [
    "# make sure ES is up and running\n",
    "import requests\n",
    "res = requests.get('http://localhost:9200')\n",
    "print(res.content)\n",
    "\n",
    "from elasticsearch import Elasticsearch\n",
    "es = Elasticsearch([{'host': 'localhost', 'port': 9200}])"
   ]
  },
  {
   "cell_type": "markdown",
   "metadata": {},
   "source": [
    "# Indexar pelis nuevas dentro de elasticsearch"
   ]
  },
  {
   "cell_type": "code",
   "execution_count": 270,
   "metadata": {
    "collapsed": false
   },
   "outputs": [
    {
     "data": {
      "text/plain": [
       "{u'_id': u'6',\n",
       " u'_index': u'movies-index',\n",
       " u'_shards': {u'failed': 0, u'successful': 1, u'total': 2},\n",
       " u'_type': u'text',\n",
       " u'_version': 1,\n",
       " u'created': True,\n",
       " u'result': u'created'}"
      ]
     },
     "execution_count": 270,
     "metadata": {},
     "output_type": "execute_result"
    }
   ],
   "source": [
    "es.index(index='movies-index', doc_type='text', id=6, body=top[3].data)"
   ]
  },
  {
   "cell_type": "markdown",
   "metadata": {},
   "source": [
    "# Borrar datos"
   ]
  },
  {
   "cell_type": "code",
   "execution_count": 73,
   "metadata": {
    "collapsed": false
   },
   "outputs": [
    {
     "ename": "NotFoundError",
     "evalue": "TransportError(404, u'{\"found\":false,\"_index\":\"movies-index\",\"_type\":\"text\",\"_id\":\"1\",\"_version\":8,\"result\":\"not_found\",\"_shards\":{\"total\":2,\"successful\":1,\"failed\":0}}')",
     "output_type": "error",
     "traceback": [
      "\u001b[0;31m---------------------------------------------------------------------------\u001b[0m",
      "\u001b[0;31mNotFoundError\u001b[0m                             Traceback (most recent call last)",
      "\u001b[0;32m<ipython-input-73-5624fc028bc4>\u001b[0m in \u001b[0;36m<module>\u001b[0;34m()\u001b[0m\n\u001b[1;32m      1\u001b[0m \u001b[1;31m#delete test data and try with something more interesting\u001b[0m\u001b[1;33m\u001b[0m\u001b[1;33m\u001b[0m\u001b[0m\n\u001b[0;32m----> 2\u001b[0;31m \u001b[0mes\u001b[0m\u001b[1;33m.\u001b[0m\u001b[0mdelete\u001b[0m\u001b[1;33m(\u001b[0m\u001b[0mindex\u001b[0m\u001b[1;33m=\u001b[0m\u001b[1;34m'movies-index'\u001b[0m\u001b[1;33m,\u001b[0m \u001b[0mdoc_type\u001b[0m\u001b[1;33m=\u001b[0m\u001b[1;34m'text'\u001b[0m\u001b[1;33m,\u001b[0m \u001b[0mid\u001b[0m\u001b[1;33m=\u001b[0m\u001b[1;36m1\u001b[0m\u001b[1;33m)\u001b[0m\u001b[1;33m\u001b[0m\u001b[0m\n\u001b[0m",
      "\u001b[0;32mC:\\Users\\Jesus\\Anaconda2\\lib\\site-packages\\elasticsearch\\client\\utils.pyc\u001b[0m in \u001b[0;36m_wrapped\u001b[0;34m(*args, **kwargs)\u001b[0m\n\u001b[1;32m     71\u001b[0m                 \u001b[1;32mif\u001b[0m \u001b[0mp\u001b[0m \u001b[1;32min\u001b[0m \u001b[0mkwargs\u001b[0m\u001b[1;33m:\u001b[0m\u001b[1;33m\u001b[0m\u001b[0m\n\u001b[1;32m     72\u001b[0m                     \u001b[0mparams\u001b[0m\u001b[1;33m[\u001b[0m\u001b[0mp\u001b[0m\u001b[1;33m]\u001b[0m \u001b[1;33m=\u001b[0m \u001b[0mkwargs\u001b[0m\u001b[1;33m.\u001b[0m\u001b[0mpop\u001b[0m\u001b[1;33m(\u001b[0m\u001b[0mp\u001b[0m\u001b[1;33m)\u001b[0m\u001b[1;33m\u001b[0m\u001b[0m\n\u001b[0;32m---> 73\u001b[0;31m             \u001b[1;32mreturn\u001b[0m \u001b[0mfunc\u001b[0m\u001b[1;33m(\u001b[0m\u001b[1;33m*\u001b[0m\u001b[0margs\u001b[0m\u001b[1;33m,\u001b[0m \u001b[0mparams\u001b[0m\u001b[1;33m=\u001b[0m\u001b[0mparams\u001b[0m\u001b[1;33m,\u001b[0m \u001b[1;33m**\u001b[0m\u001b[0mkwargs\u001b[0m\u001b[1;33m)\u001b[0m\u001b[1;33m\u001b[0m\u001b[0m\n\u001b[0m\u001b[1;32m     74\u001b[0m         \u001b[1;32mreturn\u001b[0m \u001b[0m_wrapped\u001b[0m\u001b[1;33m\u001b[0m\u001b[0m\n\u001b[1;32m     75\u001b[0m     \u001b[1;32mreturn\u001b[0m \u001b[0m_wrapper\u001b[0m\u001b[1;33m\u001b[0m\u001b[0m\n",
      "\u001b[0;32mC:\\Users\\Jesus\\Anaconda2\\lib\\site-packages\\elasticsearch\\client\\__init__.pyc\u001b[0m in \u001b[0;36mdelete\u001b[0;34m(self, index, doc_type, id, params)\u001b[0m\n\u001b[1;32m   1078\u001b[0m                 \u001b[1;32mraise\u001b[0m \u001b[0mValueError\u001b[0m\u001b[1;33m(\u001b[0m\u001b[1;34m\"Empty value passed for a required argument.\"\u001b[0m\u001b[1;33m)\u001b[0m\u001b[1;33m\u001b[0m\u001b[0m\n\u001b[1;32m   1079\u001b[0m         return self.transport.perform_request('DELETE', _make_path(index,\n\u001b[0;32m-> 1080\u001b[0;31m             doc_type, id), params=params)\n\u001b[0m\u001b[1;32m   1081\u001b[0m \u001b[1;33m\u001b[0m\u001b[0m\n\u001b[1;32m   1082\u001b[0m     @query_params('allow_no_indices', 'analyze_wildcard', 'analyzer',\n",
      "\u001b[0;32mC:\\Users\\Jesus\\Anaconda2\\lib\\site-packages\\elasticsearch\\transport.pyc\u001b[0m in \u001b[0;36mperform_request\u001b[0;34m(self, method, url, params, body)\u001b[0m\n\u001b[1;32m    316\u001b[0m \u001b[1;33m\u001b[0m\u001b[0m\n\u001b[1;32m    317\u001b[0m             \u001b[1;32mtry\u001b[0m\u001b[1;33m:\u001b[0m\u001b[1;33m\u001b[0m\u001b[0m\n\u001b[0;32m--> 318\u001b[0;31m                 \u001b[0mstatus\u001b[0m\u001b[1;33m,\u001b[0m \u001b[0mheaders\u001b[0m\u001b[1;33m,\u001b[0m \u001b[0mdata\u001b[0m \u001b[1;33m=\u001b[0m \u001b[0mconnection\u001b[0m\u001b[1;33m.\u001b[0m\u001b[0mperform_request\u001b[0m\u001b[1;33m(\u001b[0m\u001b[0mmethod\u001b[0m\u001b[1;33m,\u001b[0m \u001b[0murl\u001b[0m\u001b[1;33m,\u001b[0m \u001b[0mparams\u001b[0m\u001b[1;33m,\u001b[0m \u001b[0mbody\u001b[0m\u001b[1;33m,\u001b[0m \u001b[0mignore\u001b[0m\u001b[1;33m=\u001b[0m\u001b[0mignore\u001b[0m\u001b[1;33m,\u001b[0m \u001b[0mtimeout\u001b[0m\u001b[1;33m=\u001b[0m\u001b[0mtimeout\u001b[0m\u001b[1;33m)\u001b[0m\u001b[1;33m\u001b[0m\u001b[0m\n\u001b[0m\u001b[1;32m    319\u001b[0m \u001b[1;33m\u001b[0m\u001b[0m\n\u001b[1;32m    320\u001b[0m             \u001b[1;32mexcept\u001b[0m \u001b[0mTransportError\u001b[0m \u001b[1;32mas\u001b[0m \u001b[0me\u001b[0m\u001b[1;33m:\u001b[0m\u001b[1;33m\u001b[0m\u001b[0m\n",
      "\u001b[0;32mC:\\Users\\Jesus\\Anaconda2\\lib\\site-packages\\elasticsearch\\connection\\http_urllib3.pyc\u001b[0m in \u001b[0;36mperform_request\u001b[0;34m(self, method, url, params, body, timeout, ignore)\u001b[0m\n\u001b[1;32m    126\u001b[0m         \u001b[1;32mif\u001b[0m \u001b[1;32mnot\u001b[0m \u001b[1;33m(\u001b[0m\u001b[1;36m200\u001b[0m \u001b[1;33m<=\u001b[0m \u001b[0mresponse\u001b[0m\u001b[1;33m.\u001b[0m\u001b[0mstatus\u001b[0m \u001b[1;33m<\u001b[0m \u001b[1;36m300\u001b[0m\u001b[1;33m)\u001b[0m \u001b[1;32mand\u001b[0m \u001b[0mresponse\u001b[0m\u001b[1;33m.\u001b[0m\u001b[0mstatus\u001b[0m \u001b[1;32mnot\u001b[0m \u001b[1;32min\u001b[0m \u001b[0mignore\u001b[0m\u001b[1;33m:\u001b[0m\u001b[1;33m\u001b[0m\u001b[0m\n\u001b[1;32m    127\u001b[0m             \u001b[0mself\u001b[0m\u001b[1;33m.\u001b[0m\u001b[0mlog_request_fail\u001b[0m\u001b[1;33m(\u001b[0m\u001b[0mmethod\u001b[0m\u001b[1;33m,\u001b[0m \u001b[0mfull_url\u001b[0m\u001b[1;33m,\u001b[0m \u001b[0murl\u001b[0m\u001b[1;33m,\u001b[0m \u001b[0mbody\u001b[0m\u001b[1;33m,\u001b[0m \u001b[0mduration\u001b[0m\u001b[1;33m,\u001b[0m \u001b[0mresponse\u001b[0m\u001b[1;33m.\u001b[0m\u001b[0mstatus\u001b[0m\u001b[1;33m,\u001b[0m \u001b[0mraw_data\u001b[0m\u001b[1;33m)\u001b[0m\u001b[1;33m\u001b[0m\u001b[0m\n\u001b[0;32m--> 128\u001b[0;31m             \u001b[0mself\u001b[0m\u001b[1;33m.\u001b[0m\u001b[0m_raise_error\u001b[0m\u001b[1;33m(\u001b[0m\u001b[0mresponse\u001b[0m\u001b[1;33m.\u001b[0m\u001b[0mstatus\u001b[0m\u001b[1;33m,\u001b[0m \u001b[0mraw_data\u001b[0m\u001b[1;33m)\u001b[0m\u001b[1;33m\u001b[0m\u001b[0m\n\u001b[0m\u001b[1;32m    129\u001b[0m \u001b[1;33m\u001b[0m\u001b[0m\n\u001b[1;32m    130\u001b[0m         self.log_request_success(method, full_url, url, body, response.status,\n",
      "\u001b[0;32mC:\\Users\\Jesus\\Anaconda2\\lib\\site-packages\\elasticsearch\\connection\\base.pyc\u001b[0m in \u001b[0;36m_raise_error\u001b[0;34m(self, status_code, raw_data)\u001b[0m\n\u001b[1;32m    122\u001b[0m             \u001b[0mlogger\u001b[0m\u001b[1;33m.\u001b[0m\u001b[0mwarning\u001b[0m\u001b[1;33m(\u001b[0m\u001b[1;34m'Undecodable raw error response from server: %s'\u001b[0m\u001b[1;33m,\u001b[0m \u001b[0merr\u001b[0m\u001b[1;33m)\u001b[0m\u001b[1;33m\u001b[0m\u001b[0m\n\u001b[1;32m    123\u001b[0m \u001b[1;33m\u001b[0m\u001b[0m\n\u001b[0;32m--> 124\u001b[0;31m         \u001b[1;32mraise\u001b[0m \u001b[0mHTTP_EXCEPTIONS\u001b[0m\u001b[1;33m.\u001b[0m\u001b[0mget\u001b[0m\u001b[1;33m(\u001b[0m\u001b[0mstatus_code\u001b[0m\u001b[1;33m,\u001b[0m \u001b[0mTransportError\u001b[0m\u001b[1;33m)\u001b[0m\u001b[1;33m(\u001b[0m\u001b[0mstatus_code\u001b[0m\u001b[1;33m,\u001b[0m \u001b[0merror_message\u001b[0m\u001b[1;33m,\u001b[0m \u001b[0madditional_info\u001b[0m\u001b[1;33m)\u001b[0m\u001b[1;33m\u001b[0m\u001b[0m\n\u001b[0m\u001b[1;32m    125\u001b[0m \u001b[1;33m\u001b[0m\u001b[0m\n\u001b[1;32m    126\u001b[0m \u001b[1;33m\u001b[0m\u001b[0m\n",
      "\u001b[0;31mNotFoundError\u001b[0m: TransportError(404, u'{\"found\":false,\"_index\":\"movies-index\",\"_type\":\"text\",\"_id\":\"1\",\"_version\":8,\"result\":\"not_found\",\"_shards\":{\"total\":2,\"successful\":1,\"failed\":0}}')"
     ]
    }
   ],
   "source": [
    "#delete test data and try with something more interesting\n",
    "es.delete(index='movies-index', doc_type='text', id=1)"
   ]
  }
 ],
 "metadata": {
  "kernelspec": {
   "display_name": "Python 2",
   "language": "python",
   "name": "python2"
  },
  "language_info": {
   "codemirror_mode": {
    "name": "ipython",
    "version": 2
   },
   "file_extension": ".py",
   "mimetype": "text/x-python",
   "name": "python",
   "nbconvert_exporter": "python",
   "pygments_lexer": "ipython2",
   "version": "2.7.13"
  }
 },
 "nbformat": 4,
 "nbformat_minor": 2
}
