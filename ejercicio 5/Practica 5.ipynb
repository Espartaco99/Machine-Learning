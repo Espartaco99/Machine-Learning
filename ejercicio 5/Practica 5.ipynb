{
 "cells": [
  {
   "cell_type": "markdown",
   "metadata": {},
   "source": [
    "# Sacar la lista de 250 Pelis"
   ]
  },
  {
   "cell_type": "code",
   "execution_count": 12,
   "metadata": {
    "collapsed": false
   },
   "outputs": [
    {
     "data": {
      "text/plain": [
       "<Movie id:0111161[http] title:_The Shawshank Redemption (1994)_>"
      ]
     },
     "execution_count": 12,
     "metadata": {},
     "output_type": "execute_result"
    }
   ],
   "source": [
    "from imdb import IMDb\n",
    "ia = IMDb()\n",
    "listaPelis = ia.get_top250_movies()"
   ]
  },
  {
   "cell_type": "markdown",
   "metadata": {},
   "source": [
    "# Sacar toda la info de una peli para poder meterla en un diccionario y usarla en ElasticSearch, indexandola (metodo todo en 1)\n",
    "Tarda bastante en ejecutarse (5 a 15 min), mete 250 peliculas en elastic\n",
    "\n",
    "quitado parametro de es.index (, id=i)\n",
    "\n",
    "## Coge el sumario de cada peli de la lista, y guarda la info en elasticSearch"
   ]
  },
  {
   "cell_type": "code",
   "execution_count": 127,
   "metadata": {
    "collapsed": false
   },
   "outputs": [],
   "source": [
    "for i in range(0,250):\n",
    "    peli = listaPelis[i]\n",
    "    peli2 = ia.get_movie(peli.movieID)\n",
    "    string = peli2.summary()\n",
    "    separado = string.split('\\n')\n",
    "    solucion = {}\n",
    "    for i in range(2,len(separado)):\n",
    "        sep2 = separado[i].split(':')\n",
    "        #Forma de evitar que haya fallo al pasar el split a diccionario\n",
    "        #Caso del fallo en los 2 cuadros de abajo\n",
    "        sep2[1:len(sep2)] = [''.join(sep2[1:len(sep2)])]\n",
    "        solucion.update(dict([sep2]))\n",
    "    es.index(index='prueba-index', doc_type='text', body=solucion)"
   ]
  },
  {
   "cell_type": "code",
   "execution_count": 105,
   "metadata": {
    "collapsed": false
   },
   "outputs": [
    {
     "data": {
      "text/plain": [
       "[u'Movie',\n",
       " u'=====',\n",
       " u'Title: Godfather: Part II, The (1974)',\n",
       " u'Genres: Crime, Drama.',\n",
       " u'Director: Francis Ford Coppola.',\n",
       " u'Writer: Francis Ford Coppola, Mario Puzo, Mario Puzo.',\n",
       " u'Cast: Al Pacino (Michael), Robert Duvall (Tom Hagen), Diane Keaton (Kay), Robert De Niro (Vito Corleone), John Cazale (Fredo Corleone).',\n",
       " u'Runtime: 202, 220::(The Godfather Trilogy 1901-1980 VHS Special Edition).',\n",
       " u'Country: USA.',\n",
       " u'Language: English, Italian, Spanish, Latin, Sicilian.',\n",
       " u'Rating: 9.0 (851516 votes).',\n",
       " u'Plot: The continuing saga of the Corleone crime family tells the story of a young Vito Corleone growing up in Sicily and in 1910s New York; and follows Michael Corleone in the 1950s as he attempts to expand the family business into Las Vegas, Hollywood and Cuba.']"
      ]
     },
     "execution_count": 105,
     "metadata": {},
     "output_type": "execute_result"
    }
   ],
   "source": [
    "separado"
   ]
  },
  {
   "cell_type": "code",
   "execution_count": 106,
   "metadata": {
    "collapsed": false
   },
   "outputs": [
    {
     "data": {
      "text/plain": [
       "[u'Title', u' Godfather', u' Part II, The (1974)']"
      ]
     },
     "execution_count": 106,
     "metadata": {},
     "output_type": "execute_result"
    }
   ],
   "source": [
    "sep2"
   ]
  },
  {
   "cell_type": "markdown",
   "metadata": {},
   "source": [
    "# Pruebas"
   ]
  },
  {
   "cell_type": "code",
   "execution_count": 197,
   "metadata": {
    "collapsed": false
   },
   "outputs": [
    {
     "name": "stdout",
     "output_type": "stream",
     "text": [
      "[[ u'Movie\\n=====\\nTitle: Tonto Kid, The (1934)\\nGenres: Action, Adventure, Crime, Drama, Romance, Western.\\nDirector: Harry L. Fraser.\\nWriter: Christopher Booth, Harry L. Fraser.\\nCast: Rex Bell (Skeets Slawson aka The Tonto Kid), Ruth Mix (Nancy Cahill), Buzz Barton (Wesley Fritch), Theodore Lorch (Lawyer Sam Creech), Joseph W. Girard (Rance Cartwright).\\nRuntime: 61.\\nCountry: USA.\\nLanguage: English.\\nRating: 5.8 (24 votes).\\nPlot: Lawyer Creech is after the ranch of the dying Cartwright. First he brings in Cahill to pose as the only living relative. Then when the Tonto Kid finds platinum on the ranch, Creech frames him for murder.']\n",
      " [ u'Movie\\n=====\\nTitle: Torres Vedras (1933)\\nGenres: Documentary.\\nCountry: Portugal.\\n']\n",
      " [ u'Movie\\n=====\\nTitle: Torres Vedras e o Carnaval de 1933 (1933)\\nGenres: Documentary.\\nCountry: Portugal.\\n']\n",
      " [ u'Movie\\n=====\\nTitle: Tractores Citroen no Ex\\xe9rcito Portugu\\xeas (1933)\\nGenres: Documentary.\\nDirector: Mota da Costa.\\nCountry: Portugal.\\nLanguage: Portuguese.\\n']\n",
      " [ u'Movie\\n=====\\nTitle: Hapax Legomena IV: Travelling Matte (1971)\\nDirector: Hollis Frampton.\\nCountry: USA.\\nRating: 6.7 (18 votes).\\n']\n",
      " [ u'Movie\\n=====\\nTitle: tribunal de las Aguas, El (1960)\\nGenres: Documentary, Short.\\nDirector: Alberto Carles Blat.\\nWriter: Alberto Carles Blat.\\nCast: Juan Mart\\xedn Navas.\\nRuntime: 10.\\nCountry: Spain.\\n']\n",
      " [ u'Movie\\n=====\\nTitle: True Story of Eskimo Nell, The (1975)\\nGenres: Comedy, Western.\\nDirector: Richard Franklin.\\nWriter: Richard Franklin, Alan Hopgood.\\nCast: Max Gillies (Deadeye Dick), Serge Lazareff (Mexico Pete), Butcher Vachon (The Alaskan Kid), Jerry Thomas (The Sprunker), Kurt Beimel (Waldo the Great).\\nRuntime: 103.\\nCountry: Australia.\\nLanguage: English.\\nRating: 4.9 (58 votes).\\n']\n",
      " [ u'Movie\\n=====\\nTitle: Two Idiots in Hollywood (1988)\\nGenres: Musical, Comedy.\\nDirector: Stephen Tobolowsky.\\nWriter: Stephen Tobolowsky, Stephen Tobolowsky.\\nCast: Jim McGrath (Murphy Wegg), Jeff Doucette (Taylor Dup), Cheryl Anderson (Marianne Plambo), Kat Sawyer, Lisa Robins (NBA Casting Secretary).\\nRuntime: 85.\\nCountry: USA.\\nLanguage: English.\\nRating: 6.6 (92 votes).\\nPlot: Idiots Taylor Dupp and Murphy Wegg flee their humdrum existence in Dayton, Ohio for the glamour of Hollywood. Murphy turns his complete lack of talent into a career as a television producer (\"The Pac-Man Show\"), while Taylor is unjustly accused of murder.']]\n"
     ]
    }
   ],
   "source": [
    "import pandas as pd\n",
    "lista=[]\n",
    "\n",
    "for i in range(0400000,0400010,1):\n",
    "    peli = ia.get_movie(i)\n",
    "    lista.append(peli.summary())\n",
    "\n",
    "    \n",
    "datos = pd.DataFrame(lista)\n",
    "print datos.values\n"
   ]
  },
  {
   "cell_type": "code",
   "execution_count": 133,
   "metadata": {
    "collapsed": false
   },
   "outputs": [
    {
     "name": "stdout",
     "output_type": "stream",
     "text": [
      "[[<Movie id:0002560[http] title:_The Vicissitudes of a Top Hat (1912)_>]\n",
      " [ {'titlesRefs': {}, 'data': {'plot': [u'A man throws away an old top hat and a tramp uses it to sole his boots.']}, 'charactersRefs': {}, 'namesRefs': {}}]\n",
      " [<Movie id:0002560[http] title:_The Vicissitudes of a Top Hat (1912)_>]\n",
      " [ {'titlesRefs': {}, 'data': {'plot': [u'A man throws away an old top hat and a tramp uses it to sole his boots.']}, 'charactersRefs': {}, 'namesRefs': {}}]\n",
      " [<Movie id:0002561[http] title:_Victim of Circumstances (1912)_>]\n",
      " [ {'titlesRefs': {}, 'data': {'plot': [u'Richard Worthington on the way to work sees a thug knock a man down and apparently rob him. Rushing to the aid of the victim he is arrested for the crime. He is tried before a jury, found guilty, and sentenced to the convict camp. While working in the turpentine woods, under charge of a keeper, he is seen by Meg of the Everglades, who shows sympathy for the poor convict. The following Sunday morning word is passed around between the convicts that an attempt will be made to escape. At the opportune time one of the keepers at the gate is assaulted and fifteen of the convicts, Worthington among the lot, escape to the Everglades. Worthington is successful in eluding the bloodhounds and reaches a lonely hut in the Everglades, which proves to be the home of Meg and her father, where he successfully hides for two weeks, resulting in a strong friendship springing up between the convict and Meg. Becoming careless, Worthington goes outside of the hut to enjoy a smoke. He is seen by some of the guards from the convict camp and is arrested. A few weeks later Red Lopers, for whose crime Worthington is arrested, confesses. Worthington is immediately discharged and exonerated from all blame. Although his good name is restored and he is back with his mother, Worthington finds something is missing. His happiness is not complete, and he soon realizes that unconsciously he has fallen in love with the girl of the Everglades, who showed such practical sympathy for the poor unfortunate. Leaving his home, he goes to the little cabin in the woods, where he tells Meg of his love, and they agree to start a new life together.']}, 'charactersRefs': {}, 'namesRefs': {}}]\n",
      " [<Movie id:0002560[http] title:_The Vicissitudes of a Top Hat (1912)_>]\n",
      " [ {'titlesRefs': {}, 'data': {'plot': [u'A man throws away an old top hat and a tramp uses it to sole his boots.']}, 'charactersRefs': {}, 'namesRefs': {}}]\n",
      " [<Movie id:0002561[http] title:_Victim of Circumstances (1912)_>]\n",
      " [ {'titlesRefs': {}, 'data': {'plot': [u'Richard Worthington on the way to work sees a thug knock a man down and apparently rob him. Rushing to the aid of the victim he is arrested for the crime. He is tried before a jury, found guilty, and sentenced to the convict camp. While working in the turpentine woods, under charge of a keeper, he is seen by Meg of the Everglades, who shows sympathy for the poor convict. The following Sunday morning word is passed around between the convicts that an attempt will be made to escape. At the opportune time one of the keepers at the gate is assaulted and fifteen of the convicts, Worthington among the lot, escape to the Everglades. Worthington is successful in eluding the bloodhounds and reaches a lonely hut in the Everglades, which proves to be the home of Meg and her father, where he successfully hides for two weeks, resulting in a strong friendship springing up between the convict and Meg. Becoming careless, Worthington goes outside of the hut to enjoy a smoke. He is seen by some of the guards from the convict camp and is arrested. A few weeks later Red Lopers, for whose crime Worthington is arrested, confesses. Worthington is immediately discharged and exonerated from all blame. Although his good name is restored and he is back with his mother, Worthington finds something is missing. His happiness is not complete, and he soon realizes that unconsciously he has fallen in love with the girl of the Everglades, who showed such practical sympathy for the poor unfortunate. Leaving his home, he goes to the little cabin in the woods, where he tells Meg of his love, and they agree to start a new life together.']}, 'charactersRefs': {}, 'namesRefs': {}}]\n",
      " [<Movie id:0002562[http] title:_The Victoria Cross (1912)_>]\n",
      " [ {'titlesRefs': {}, 'data': {'plot': [u'Just previous to the Charge of the Light Brigade, made famous by Tennyson, in the fall of 1854, young Lieutenant Cholmondeley, of the English Army, asks Colonel Carson for the hand of his daughter Ellen. The Colonel replies: \"When you have won your spurs, I will give my consent.\" Russia declares war against England and France and the Light Brigade is ordered to the front. After the departure of the Lieutenant and her father, Ellen decides to become a nurse under Florence Nightingale. She offers her services and though somewhat young, is accepted by Miss Nightingale. At her father\\'s encampment he recognizes Ellen as the nurses pass before him in review. At first he is displeased, but upon second thought is justly proud of her. She is first upon the battlefield to aid and comfort the wounded and it is there that her sweetheart, the Lieutenant, learns of her presence at the seat of action. During the charge of the Six Hundred, Lieutenant Cholmondeley saves the life of his Colonel, defending him against the combined attacks of three Cossacks, lifting one bodily above his head and casting him maimed and helpless to the ground. Ellen watches through her father\\'s field-glasses with palpitating heart the deeds of her sweetheart and the progress of the battle. After the war what is left of the few survivors of the Light Brigade are mustered before Queen Victoria and the young Lieutenant receives the Victoria Cross as a special mark of distinction for services rendered. The Colonel gives him his daughter Ellen, saying, \"He has fairly won her and his spurs.\"', u'Ellen Carson volunteers to serve with Florence Nightingale in the Crimean war and witnesses the charge of the Light Brigade.']}, 'charactersRefs': {}, 'namesRefs': {}}]]\n"
     ]
    }
   ],
   "source": [
    "import pandas as pd\n",
    "lista=[]\n",
    "datos = pd.DataFrame([])\n",
    "for i in range(0005000,0005003):\n",
    "        lista.append(ia.get_movie(i))\n",
    "        lista.append(ia.get_movie_plot(i))\n",
    "\n",
    "        datos = datos.append(lista)\n",
    "\n",
    "print datos.values"
   ]
  },
  {
   "cell_type": "markdown",
   "metadata": {},
   "source": [
    "# Elastic Seach (cabezera de ejemplo)"
   ]
  },
  {
   "cell_type": "code",
   "execution_count": 4,
   "metadata": {
    "collapsed": false
   },
   "outputs": [
    {
     "name": "stdout",
     "output_type": "stream",
     "text": [
      "{u'rating': 8.9, u'kind': u'movie', u'title': u'The Dark Knight', u'year': 2008}\n",
      "Got 10 Hits:\n",
      "A man throws away an old top hat and a tramp uses it to sole his boots.\n",
      "A man throws away an old top hat and a tramp uses it to sole his boots.\n",
      "A man throws away an old top hat and a tramp uses it to sole his boots.\n",
      "A man throws away an old top hat and a tramp uses it to sole his boots.\n"
     ]
    },
    {
     "ename": "KeyError",
     "evalue": "'text'",
     "output_type": "error",
     "traceback": [
      "\u001b[0;31m---------------------------------------------------------------------------\u001b[0m",
      "\u001b[0;31mKeyError\u001b[0m                                  Traceback (most recent call last)",
      "\u001b[0;32m<ipython-input-4-b426fb989a9c>\u001b[0m in \u001b[0;36m<module>\u001b[0;34m()\u001b[0m\n\u001b[1;32m     19\u001b[0m \u001b[1;32mprint\u001b[0m\u001b[1;33m(\u001b[0m\u001b[1;34m\"Got %d Hits:\"\u001b[0m \u001b[1;33m%\u001b[0m \u001b[0mres\u001b[0m\u001b[1;33m[\u001b[0m\u001b[1;34m'hits'\u001b[0m\u001b[1;33m]\u001b[0m\u001b[1;33m[\u001b[0m\u001b[1;34m'total'\u001b[0m\u001b[1;33m]\u001b[0m\u001b[1;33m)\u001b[0m\u001b[1;33m\u001b[0m\u001b[0m\n\u001b[1;32m     20\u001b[0m \u001b[1;32mfor\u001b[0m \u001b[0mhit\u001b[0m \u001b[1;32min\u001b[0m \u001b[0mres\u001b[0m\u001b[1;33m[\u001b[0m\u001b[1;34m'hits'\u001b[0m\u001b[1;33m]\u001b[0m\u001b[1;33m[\u001b[0m\u001b[1;34m'hits'\u001b[0m\u001b[1;33m]\u001b[0m\u001b[1;33m:\u001b[0m\u001b[1;33m\u001b[0m\u001b[0m\n\u001b[0;32m---> 21\u001b[0;31m     \u001b[1;32mprint\u001b[0m\u001b[1;33m(\u001b[0m\u001b[1;34m\"%(text)s\"\u001b[0m \u001b[1;33m%\u001b[0m \u001b[0mhit\u001b[0m\u001b[1;33m[\u001b[0m\u001b[1;34m\"_source\"\u001b[0m\u001b[1;33m]\u001b[0m\u001b[1;33m)\u001b[0m\u001b[1;33m\u001b[0m\u001b[0m\n\u001b[0m",
      "\u001b[0;31mKeyError\u001b[0m: 'text'"
     ]
    }
   ],
   "source": [
    "from datetime import datetime\n",
    "from elasticsearch import Elasticsearch\n",
    "es = Elasticsearch()\n",
    "'''\n",
    "doc = {\n",
    "    'prueba': 'Holi',\n",
    "    'text': 'A man throws away an old top hat and a tramp uses it to sole his boots.',\n",
    "}\n",
    "res = es.index(index=\"movies-index\", doc_type='text', id=1, body=doc)\n",
    "print(res['created'])\n",
    "'''\n",
    "\n",
    "res = es.get(index=\"movies-index\", doc_type='text', id=6)\n",
    "print(res['_source'])\n",
    "\n",
    "es.indices.refresh(index=\"movies-index\")\n",
    "\n",
    "res = es.search(index=\"movies-index\", body={\"query\": {\"match_all\": {}}})\n",
    "print(\"Got %d Hits:\" % res['hits']['total'])\n",
    "for hit in res['hits']['hits']:\n",
    "    print(\"%(text)s\" % hit[\"_source\"])"
   ]
  },
  {
   "cell_type": "markdown",
   "metadata": {},
   "source": [
    "# Inicializacion real de Elastic Search (ejecutar)"
   ]
  },
  {
   "cell_type": "code",
   "execution_count": 7,
   "metadata": {
    "collapsed": false
   },
   "outputs": [
    {
     "name": "stdout",
     "output_type": "stream",
     "text": [
      "{\n",
      "  \"name\" : \"olxdfU7\",\n",
      "  \"cluster_name\" : \"elasticsearch\",\n",
      "  \"cluster_uuid\" : \"DQylXrS0QwCriq9AQDxkSQ\",\n",
      "  \"version\" : {\n",
      "    \"number\" : \"5.4.0\",\n",
      "    \"build_hash\" : \"780f8c4\",\n",
      "    \"build_date\" : \"2017-04-28T17:43:27.229Z\",\n",
      "    \"build_snapshot\" : false,\n",
      "    \"lucene_version\" : \"6.5.0\"\n",
      "  },\n",
      "  \"tagline\" : \"You Know, for Search\"\n",
      "}\n",
      "\n"
     ]
    }
   ],
   "source": [
    "# make sure ES is up and running\n",
    "import requests\n",
    "res = requests.get('http://localhost:9200')\n",
    "print(res.content)\n",
    "\n",
    "from elasticsearch import Elasticsearch\n",
    "es = Elasticsearch([{'host': 'localhost', 'port': 9200}])"
   ]
  },
  {
   "cell_type": "markdown",
   "metadata": {},
   "source": [
    "# Guardamos el top 250 dentro de elastic search (antiguo)"
   ]
  },
  {
   "cell_type": "code",
   "execution_count": 281,
   "metadata": {
    "collapsed": false
   },
   "outputs": [],
   "source": [
    "#Lista con el top 250 de peliculas\n",
    "top = ia.get_top250_movies()\n",
    "#Recorro la lista y saco los datos para indexarlos en elastic search, el id es el orden en la lista\n",
    "for i in range(0,250):\n",
    "    es.index(index='films-index', doc_type='text', id=i, body=top[i].data)\n"
   ]
  },
  {
   "cell_type": "markdown",
   "metadata": {},
   "source": [
    "# Buscamos los datos guardados (antiguo)"
   ]
  },
  {
   "cell_type": "code",
   "execution_count": 70,
   "metadata": {
    "collapsed": false
   },
   "outputs": [
    {
     "name": "stdout",
     "output_type": "stream",
     "text": [
      "Got 250 Hits:\n",
      "movie The Shawshank Redemption 1994 9.2\n",
      "movie The Lord of the Rings: The Two Towers 2002 8.7\n",
      "movie Star Wars: Episode IV - A New Hope 1977 8.6\n",
      "movie The Silence of the Lambs 1991 8.6\n",
      "movie Life Is Beautiful 1997 8.6\n",
      "movie The Usual Suspects 1995 8.6\n",
      "movie Léon: The Professional 1994 8.5\n",
      "movie Once Upon a Time in the West 1968 8.5\n",
      "movie The Pianist 2002 8.5\n",
      "movie The Departed 2006 8.5\n"
     ]
    }
   ],
   "source": [
    "res = es.search(index=\"films-index\", body={\"query\": {\"match_all\": {}}})\n",
    "print(\"Got %d Hits:\" % res['hits']['total'])\n",
    "#Modificar para que funcione\n",
    "for hit in res['hits']['hits']:\n",
    "    print(\"%(kind)s %(title)s %(year)s %(rating)s\" % hit[\"_source\"])"
   ]
  },
  {
   "cell_type": "markdown",
   "metadata": {},
   "source": [
    "# Sacar los hits e info de unos cuantos de ellos"
   ]
  },
  {
   "cell_type": "code",
   "execution_count": 132,
   "metadata": {
    "collapsed": false
   },
   "outputs": [
    {
     "name": "stdout",
     "output_type": "stream",
     "text": [
      "Got 252 Hits:\n",
      " Inception (2010)  Action, Adventure, Sci-Fi, Thriller.  Christopher Nolan.  Leonardo DiCaprio (Cobb), Joseph Gordon-Levitt (Arthur), Ellen Page (Ariadne), Tom Hardy (Eames), Ken Watanabe (Saito).  Christopher Nolan.  USA, UK.  English, Japanese, French.  8.8 (1583769 votes).  Dom Cobb is a skilled thief, the absolute best in the dangerous art of extraction, stealing valuable secrets from deep within the subconscious during the dream state, when the mind is at its most vulnerable. Cobb's rare ability has made him a coveted player in this treacherous new world of corporate espionage, but it has also made him an international fugitive and cost him everything he has ever loved. Now Cobb is being offered a chance at redemption. One last job could give him his life back but only if he can accomplish the impossible - inception. Instead of the perfect heist, Cobb and his team of specialists have to pull off the reverse their task is not to steal an idea but to plant one. If they succeed, it could be the perfect crime. But no amount of careful planning or expertise can prepare the team for the dangerous enemy that seems to predict their every move. An enemy that only Cobb could have seen coming.\n",
      " Cidade de Deus (2002)  Crime, Drama.  Fernando Meirelles, Kátia Lund.  Alexandre Rodrigues (Buscapé - Rocket), Leandro Firmino (Zé Pequeno - Li'l Zé), Phellipe Haagensen (Bené - Benny), Douglas Silva (Dadinho - Li'l Dice), Jonathan Haagensen (Cabeleira - Shaggy).  Paulo Lins, Bráulio Mantovani.  Brazil, France.  Portuguese.  8.7 (567336 votes).  Brazil, 1960s, City of God. The Tender Trio robs motels and gas trucks. Younger kids watch and learn well...too well. 1970s Li'l Zé has prospered very well and owns the city. He causes violence and fear as he wipes out rival gangs without mercy. His best friend Bené is the only one to keep him on the good side of sanity. Rocket has watched these two gain power for years, and he wants no part of it. Yet he keeps getting swept up in the madness. All he wants to do is take pictures. 1980s Things are out of control between the last two remaining gangs...will it ever end? Welcome to the City of God.\n",
      " Forrest Gump (1994)  Comedy, Drama, Romance.  Robert Zemeckis.  Tom Hanks (Forrest Gump), Rebecca Williams (Nurse at Park Bench), Sally Field (Mrs. Gump), Michael Conner Humphreys (Young Forrest), Harold G. Herthum (Doctor).  Winston Groom, Eric Roth.  USA.  English.  8.8 (1359779 votes).  Forrest Gump is a simple man with a low I.Q. but good intentions. He is running through childhood with his best and only friend Jenny. His 'mama' teaches him the ways of life and leaves him to choose his destiny. Forrest joins the army for service in Vietnam, finding new friends called Dan and Bubba, he wins medals, creates a famous shrimp fishing fleet, inspires people to jog, starts a ping-pong craze, creates the smiley, writes bumper stickers and songs, donates to people and meets the president several times. However, this is all irrelevant to Forrest who can only think of his childhood sweetheart Jenny Curran, who has messed up her life. Although in the end all he wants to prove is that anyone can love anyone.\n",
      " Fight Club (1999)  Drama.  David Fincher.  Edward Norton (The Narrator), Brad Pitt (Tyler Durden), Meat Loaf (Robert 'Bob' Paulsen), Zach Grenier (Richard Chesler), Richmond Arquette (Intern).  Chuck Palahniuk, Jim Uhls.  USA, Germany.  English.  8.8 (1451489 votes).  A nameless first person narrator (Edward Norton) attends support groups in attempt to subdue his emotional state and relieve his insomniac state. When he meets Marla (Helena Bonham Carter), another fake attendee of support groups, his life seems to become a little more bearable. However when he associates himself with Tyler (Brad Pitt) he is dragged into an underground fight club and soap making scheme. Together the two men spiral out of control and engage in competitive rivalry for love and power. When the narrator is exposed to the hidden agenda of Tyler's fight club, he must accept the awful truth that Tyler may not be who he says he is.\n",
      " Dark Knight, The (2008)  Action, Crime, Drama, Thriller.  Christopher Nolan.  Christian Bale (Bruce Wayne), Heath Ledger (Joker), Aaron Eckhart (Harvey Dent), Michael Caine (Alfred), Maggie Gyllenhaal (Rachel).  Jonathan Nolan, Christopher Nolan, Christopher Nolan, David S. Goyer, Bob Kane.  USA, UK.  English, Mandarin.  9.0 (1792052 votes).  Set within a year after the events of Batman Begins, Batman, Lieutenant James Gordon, and new district attorney Harvey Dent successfully begin to round up the criminals that plague Gotham City until a mysterious and sadistic criminal mastermind known only as the Joker appears in Gotham, creating a new wave of chaos. Batman's struggle against the Joker becomes deeply personal, forcing him to \"confront everything he believes\" and improve his technology to stop him. A love triangle develops between Bruce Wayne, Dent and Rachel Dawes.\n",
      " Pulp Fiction (1994)  Crime, Drama.  Quentin Tarantino.  Tim Roth (Pumpkin), Amanda Plummer (Honey Bunny), Laura Lovelace (Waitress), John Travolta (Vincent Vega), Samuel L. Jackson (Jules Winnfield).  Quentin Tarantino, Roger Avary, Quentin Tarantino.  USA.  English, Spanish, French.  8.9 (1418706 votes).  Jules Winnfield (Samuel L. Jackson) and Vincent Vega (John Travolta) are two hit men who are out to retrieve a suitcase stolen from their employer, mob boss Marsellus Wallace (Ving Rhames). Wallace has also asked Vincent to take his wife Mia (Uma Thurman) out a few days later when Wallace himself will be out of town. Butch Coolidge (Bruce Willis) is an aging boxer who is paid by Wallace to lose his fight. The lives of these seemingly unrelated people are woven together comprising of a series of funny, bizarre and uncalled-for incidents.\n",
      " Star Wars Episode V - The Empire Strikes Back (1980)  Action, Adventure, Fantasy, Sci-Fi.  Irvin Kershner.  Mark Hamill (Luke Skywalker), Harrison Ford (Han Solo), Carrie Fisher (Princess Leia), Billy Dee Williams (Lando Calrissian), Anthony Daniels (C-3PO).  Leigh Brackett, Lawrence Kasdan, George Lucas.  USA.  English.  8.8 (905381 votes).  Luke Skywalker, Han Solo, Princess Leia and Chewbacca face attack by the Imperial forces and its AT-AT walkers on the ice planet Hoth. While Han and Leia escape in the Millennium Falcon, Luke travels to Dagobah in search of Yoda. Only with the Jedi master's help will Luke survive when the dark side of the Force beckons him into the ultimate duel with Darth Vader.\n",
      " Goodfellas (1990)  Crime, Drama.  Martin Scorsese.  Robert De Niro (James Conway), Ray Liotta (Henry Hill), Joe Pesci (Tommy DeVito), Lorraine Bracco (Karen Hill), Paul Sorvino (Paul Cicero).  Nicholas Pileggi, Nicholas Pileggi, Martin Scorsese.  USA.  English, Italian.  8.7 (781443 votes).  Henry Hill might be a small time gangster, who may have taken part in a robbery with Jimmy Conway and Tommy De Vito, two other gangsters who might have set their sights a bit higher. His two partners could kill off everyone else involved in the robbery, and slowly start to think about climbing up through the hierarchy of the Mob. Henry, however, might be badly affected by his partners' success, but will he consider stooping low enough to bring about the downfall of Jimmy and Tommy?\n",
      " Star Wars (1977)  Action, Adventure, Fantasy, Sci-Fi.  George Lucas.  Mark Hamill (Luke Skywalker), Harrison Ford (Han Solo), Carrie Fisher (Princess Leia Organa), Peter Cushing (Grand Moff Tarkin), Alec Guinness (Ben Obi-Wan Kenobi).  George Lucas.  USA.  English.  8.7 (978421 votes).  The Imperial Forces, under orders from cruel Darth Vader, hold Princess Leia hostage in their efforts to quell the rebellion against the Galactic Empire. Luke Skywalker and Han Solo, captain of the Millennium Falcon, work together with the companionable droid duo R2-D2 and C-3PO to rescue the beautiful princess, help the Rebel Alliance and restore freedom and justice to the Galaxy.\n",
      " Léon (1994)  Crime, Drama, Thriller.  Luc Besson.  Jean Reno (Léon), Gary Oldman (Stansfield), Natalie Portman (Mathilda), Danny Aiello (Tony), Peter Appel (Malky).  Luc Besson.  France.  English, Italian, French.  8.6 (782508 votes).  After her father, mother, older sister and little brother are killed by her father's employers, the 12-year-old daughter of an abject drug dealer is forced to take refuge in the apartment of a professional hitman who at her request teaches her the methods of his job so she can take her revenge on the corrupt DEA agent who ruined her life by killing her beloved brother.\n"
     ]
    }
   ],
   "source": [
    "res = es.search(index=\"prueba-index\", body={\"query\": {\"match_all\": {}}})\n",
    "print(\"Got %d Hits:\" % res['hits']['total'])\n",
    "\n",
    "for hit in res['hits']['hits']:\n",
    "    print(\"%(Title)s %(Genres)s %(Director)s %(Cast)s %(Writer)s %(Country)s %(Language)s %(Rating)s %(Plot)s\" % hit[\"_source\"])"
   ]
  },
  {
   "cell_type": "code",
   "execution_count": 131,
   "metadata": {
    "collapsed": false
   },
   "outputs": [
    {
     "name": "stdout",
     "output_type": "stream",
     "text": [
      "Got 252 Hits:\n",
      " Inception (2010)\n",
      " Cidade de Deus (2002)\n",
      " Forrest Gump (1994)\n",
      " Fight Club (1999)\n",
      " Dark Knight, The (2008)\n",
      " Pulp Fiction (1994)\n",
      " Star Wars Episode V - The Empire Strikes Back (1980)\n",
      " Goodfellas (1990)\n",
      " Star Wars (1977)\n",
      " Léon (1994)\n"
     ]
    }
   ],
   "source": [
    "res = es.search(index=\"prueba-index\", body={\"query\": {\"match_all\": {}}})\n",
    "print(\"Got %d Hits:\" % res['hits']['total'])\n",
    "\n",
    "for hit in res['hits']['hits']:\n",
    "    print(\"%(Title)s\" % hit[\"_source\"])"
   ]
  },
  {
   "cell_type": "code",
   "execution_count": 136,
   "metadata": {
    "collapsed": false
   },
   "outputs": [
    {
     "data": {
      "text/plain": [
       "{u'_shards': {u'failed': 0, u'successful': 5, u'total': 5},\n",
       " u'hits': {u'hits': [{u'_id': u'AVxBNhCtBzF0Aj2q5PpK',\n",
       "    u'_index': u'prueba-index',\n",
       "    u'_score': 1.0,\n",
       "    u'_source': {u'Cast': u' Leonardo DiCaprio (Cobb), Joseph Gordon-Levitt (Arthur), Ellen Page (Ariadne), Tom Hardy (Eames), Ken Watanabe (Saito).',\n",
       "     u'Country': u' USA, UK.',\n",
       "     u'Director': u' Christopher Nolan.',\n",
       "     u'Genres': u' Action, Adventure, Sci-Fi, Thriller.',\n",
       "     u'Language': u' English, Japanese, French.',\n",
       "     u'Plot': u\" Dom Cobb is a skilled thief, the absolute best in the dangerous art of extraction, stealing valuable secrets from deep within the subconscious during the dream state, when the mind is at its most vulnerable. Cobb's rare ability has made him a coveted player in this treacherous new world of corporate espionage, but it has also made him an international fugitive and cost him everything he has ever loved. Now Cobb is being offered a chance at redemption. One last job could give him his life back but only if he can accomplish the impossible - inception. Instead of the perfect heist, Cobb and his team of specialists have to pull off the reverse their task is not to steal an idea but to plant one. If they succeed, it could be the perfect crime. But no amount of careful planning or expertise can prepare the team for the dangerous enemy that seems to predict their every move. An enemy that only Cobb could have seen coming.\",\n",
       "     u'Rating': u' 8.8 (1583769 votes).',\n",
       "     u'Runtime': u' 148.',\n",
       "     u'Title': u' Inception (2010)',\n",
       "     u'Writer': u' Christopher Nolan.'},\n",
       "    u'_type': u'text'},\n",
       "   {u'_id': u'AVxBNlyrBzF0Aj2q5PpR',\n",
       "    u'_index': u'prueba-index',\n",
       "    u'_score': 1.0,\n",
       "    u'_source': {u'Cast': u\" Alexandre Rodrigues (Buscap\\xe9 - Rocket), Leandro Firmino (Z\\xe9 Pequeno - Li'l Z\\xe9), Phellipe Haagensen (Ben\\xe9 - Benny), Douglas Silva (Dadinho - Li'l Dice), Jonathan Haagensen (Cabeleira - Shaggy).\",\n",
       "     u'Country': u' Brazil, France.',\n",
       "     u'Director': u' Fernando Meirelles, K\\xe1tia Lund.',\n",
       "     u'Genres': u' Crime, Drama.',\n",
       "     u'Language': u' Portuguese.',\n",
       "     u'Plot': u\" Brazil, 1960s, City of God. The Tender Trio robs motels and gas trucks. Younger kids watch and learn well...too well. 1970s Li'l Z\\xe9 has prospered very well and owns the city. He causes violence and fear as he wipes out rival gangs without mercy. His best friend Ben\\xe9 is the only one to keep him on the good side of sanity. Rocket has watched these two gain power for years, and he wants no part of it. Yet he keeps getting swept up in the madness. All he wants to do is take pictures. 1980s Things are out of control between the last two remaining gangs...will it ever end? Welcome to the City of God.\",\n",
       "     u'Rating': u' 8.7 (567336 votes).',\n",
       "     u'Runtime': u' 130, Canada135(Toronto International Film Festival).',\n",
       "     u'Title': u' Cidade de Deus (2002)',\n",
       "     u'Writer': u' Paulo Lins, Br\\xe1ulio Mantovani.'},\n",
       "    u'_type': u'text'},\n",
       "   {u'_id': u'AVxBNgD1BzF0Aj2q5PpJ',\n",
       "    u'_index': u'prueba-index',\n",
       "    u'_score': 1.0,\n",
       "    u'_source': {u'Cast': u' Tom Hanks (Forrest Gump), Rebecca Williams (Nurse at Park Bench), Sally Field (Mrs. Gump), Michael Conner Humphreys (Young Forrest), Harold G. Herthum (Doctor).',\n",
       "     u'Country': u' USA.',\n",
       "     u'Director': u' Robert Zemeckis.',\n",
       "     u'Genres': u' Comedy, Drama, Romance.',\n",
       "     u'Language': u' English.',\n",
       "     u'Plot': u\" Forrest Gump is a simple man with a low I.Q. but good intentions. He is running through childhood with his best and only friend Jenny. His 'mama' teaches him the ways of life and leaves him to choose his destiny. Forrest joins the army for service in Vietnam, finding new friends called Dan and Bubba, he wins medals, creates a famous shrimp fishing fleet, inspires people to jog, starts a ping-pong craze, creates the smiley, writes bumper stickers and songs, donates to people and meets the president several times. However, this is all irrelevant to Forrest who can only think of his childhood sweetheart Jenny Curran, who has messed up her life. Although in the end all he wants to prove is that anyone can love anyone.\",\n",
       "     u'Rating': u' 8.8 (1359779 votes).',\n",
       "     u'Runtime': u' 142.',\n",
       "     u'Title': u' Forrest Gump (1994)',\n",
       "     u'Writer': u' Winston Groom, Eric Roth.'},\n",
       "    u'_type': u'text'},\n",
       "   {u'_id': u'AVxBNdzhBzF0Aj2q5PpG',\n",
       "    u'_index': u'prueba-index',\n",
       "    u'_score': 1.0,\n",
       "    u'_source': {u'Cast': u\" Edward Norton (The Narrator), Brad Pitt (Tyler Durden), Meat Loaf (Robert 'Bob' Paulsen), Zach Grenier (Richard Chesler), Richmond Arquette (Intern).\",\n",
       "     u'Country': u' USA, Germany.',\n",
       "     u'Director': u' David Fincher.',\n",
       "     u'Genres': u' Drama.',\n",
       "     u'Language': u' English.',\n",
       "     u'Plot': u\" A nameless first person narrator (Edward Norton) attends support groups in attempt to subdue his emotional state and relieve his insomniac state. When he meets Marla (Helena Bonham Carter), another fake attendee of support groups, his life seems to become a little more bearable. However when he associates himself with Tyler (Brad Pitt) he is dragged into an underground fight club and soap making scheme. Together the two men spiral out of control and engage in competitive rivalry for love and power. When the narrator is exposed to the hidden agenda of Tyler's fight club, he must accept the awful truth that Tyler may not be who he says he is.\",\n",
       "     u'Rating': u' 8.8 (1451489 votes).',\n",
       "     u'Runtime': u' 139, 151(workprint version).',\n",
       "     u'Title': u' Fight Club (1999)',\n",
       "     u'Writer': u' Chuck Palahniuk, Jim Uhls.'},\n",
       "    u'_type': u'text'},\n",
       "   {u'_id': u'AVxBNZS7BzF0Aj2q5PpA',\n",
       "    u'_index': u'prueba-index',\n",
       "    u'_score': 1.0,\n",
       "    u'_source': {u'Cast': u' Christian Bale (Bruce Wayne), Heath Ledger (Joker), Aaron Eckhart (Harvey Dent), Michael Caine (Alfred), Maggie Gyllenhaal (Rachel).',\n",
       "     u'Country': u' USA, UK.',\n",
       "     u'Director': u' Christopher Nolan.',\n",
       "     u'Genres': u' Action, Crime, Drama, Thriller.',\n",
       "     u'Language': u' English, Mandarin.',\n",
       "     u'Plot': u' Set within a year after the events of Batman Begins, Batman, Lieutenant James Gordon, and new district attorney Harvey Dent successfully begin to round up the criminals that plague Gotham City until a mysterious and sadistic criminal mastermind known only as the Joker appears in Gotham, creating a new wave of chaos. Batman\\'s struggle against the Joker becomes deeply personal, forcing him to \"confront everything he believes\" and improve his technology to stop him. A love triangle develops between Bruce Wayne, Dent and Rachel Dawes.',\n",
       "     u'Rating': u' 9.0 (1792052 votes).',\n",
       "     u'Runtime': u' 152.',\n",
       "     u'Title': u' Dark Knight, The (2008)',\n",
       "     u'Writer': u' Jonathan Nolan, Christopher Nolan, Christopher Nolan, David S. Goyer, Bob Kane.'},\n",
       "    u'_type': u'text'},\n",
       "   {u'_id': u'AVxBNbfFBzF0Aj2q5PpD',\n",
       "    u'_index': u'prueba-index',\n",
       "    u'_score': 1.0,\n",
       "    u'_source': {u'Cast': u' Tim Roth (Pumpkin), Amanda Plummer (Honey Bunny), Laura Lovelace (Waitress), John Travolta (Vincent Vega), Samuel L. Jackson (Jules Winnfield).',\n",
       "     u'Country': u' USA.',\n",
       "     u'Director': u' Quentin Tarantino.',\n",
       "     u'Genres': u' Crime, Drama.',\n",
       "     u'Language': u' English, Spanish, French.',\n",
       "     u'Plot': u' Jules Winnfield (Samuel L. Jackson) and Vincent Vega (John Travolta) are two hit men who are out to retrieve a suitcase stolen from their employer, mob boss Marsellus Wallace (Ving Rhames). Wallace has also asked Vincent to take his wife Mia (Uma Thurman) out a few days later when Wallace himself will be out of town. Butch Coolidge (Bruce Willis) is an aging boxer who is paid by Wallace to lose his fight. The lives of these seemingly unrelated people are woven together comprising of a series of funny, bizarre and uncalled-for incidents.',\n",
       "     u'Rating': u' 8.9 (1418706 votes).',\n",
       "     u'Runtime': u' 154, 178(original cut).',\n",
       "     u'Title': u' Pulp Fiction (1994)',\n",
       "     u'Writer': u' Quentin Tarantino, Roger Avary, Quentin Tarantino.'},\n",
       "    u'_type': u'text'},\n",
       "   {u'_id': u'AVxBNfguBzF0Aj2q5PpI',\n",
       "    u'_index': u'prueba-index',\n",
       "    u'_score': 1.0,\n",
       "    u'_source': {u'Cast': u' Mark Hamill (Luke Skywalker), Harrison Ford (Han Solo), Carrie Fisher (Princess Leia), Billy Dee Williams (Lando Calrissian), Anthony Daniels (C-3PO).',\n",
       "     u'Country': u' USA.',\n",
       "     u'Director': u' Irvin Kershner.',\n",
       "     u'Genres': u' Action, Adventure, Fantasy, Sci-Fi.',\n",
       "     u'Language': u' English.',\n",
       "     u'Plot': u\" Luke Skywalker, Han Solo, Princess Leia and Chewbacca face attack by the Imperial forces and its AT-AT walkers on the ice planet Hoth. While Han and Leia escape in the Millennium Falcon, Luke travels to Dagobah in search of Yoda. Only with the Jedi master's help will Luke survive when the dark side of the Force beckons him into the ultimate duel with Darth Vader.\",\n",
       "     u'Rating': u' 8.8 (905381 votes).',\n",
       "     u'Runtime': u' 124, 127(special edition).',\n",
       "     u'Title': u' Star Wars Episode V - The Empire Strikes Back (1980)',\n",
       "     u'Writer': u' Leigh Brackett, Lawrence Kasdan, George Lucas.'},\n",
       "    u'_type': u'text'},\n",
       "   {u'_id': u'AVxBNjC7BzF0Aj2q5PpN',\n",
       "    u'_index': u'prueba-index',\n",
       "    u'_score': 1.0,\n",
       "    u'_source': {u'Cast': u' Robert De Niro (James Conway), Ray Liotta (Henry Hill), Joe Pesci (Tommy DeVito), Lorraine Bracco (Karen Hill), Paul Sorvino (Paul Cicero).',\n",
       "     u'Country': u' USA.',\n",
       "     u'Director': u' Martin Scorsese.',\n",
       "     u'Genres': u' Crime, Drama.',\n",
       "     u'Language': u' English, Italian.',\n",
       "     u'Plot': u\" Henry Hill might be a small time gangster, who may have taken part in a robbery with Jimmy Conway and Tommy De Vito, two other gangsters who might have set their sights a bit higher. His two partners could kill off everyone else involved in the robbery, and slowly start to think about climbing up through the hierarchy of the Mob. Henry, however, might be badly affected by his partners' success, but will he consider stooping low enough to bring about the downfall of Jimmy and Tommy?\",\n",
       "     u'Rating': u' 8.7 (781443 votes).',\n",
       "     u'Runtime': u' 146.',\n",
       "     u'Title': u' Goodfellas (1990)',\n",
       "     u'Writer': u' Nicholas Pileggi, Nicholas Pileggi, Martin Scorsese.'},\n",
       "    u'_type': u'text'},\n",
       "   {u'_id': u'AVxBNlQjBzF0Aj2q5PpQ',\n",
       "    u'_index': u'prueba-index',\n",
       "    u'_score': 1.0,\n",
       "    u'_source': {u'Cast': u' Mark Hamill (Luke Skywalker), Harrison Ford (Han Solo), Carrie Fisher (Princess Leia Organa), Peter Cushing (Grand Moff Tarkin), Alec Guinness (Ben Obi-Wan Kenobi).',\n",
       "     u'Country': u' USA.',\n",
       "     u'Director': u' George Lucas.',\n",
       "     u'Genres': u' Action, Adventure, Fantasy, Sci-Fi.',\n",
       "     u'Language': u' English.',\n",
       "     u'Plot': u' The Imperial Forces, under orders from cruel Darth Vader, hold Princess Leia hostage in their efforts to quell the rebellion against the Galactic Empire. Luke Skywalker and Han Solo, captain of the Millennium Falcon, work together with the companionable droid duo R2-D2 and C-3PO to rescue the beautiful princess, help the Rebel Alliance and restore freedom and justice to the Galaxy.',\n",
       "     u'Rating': u' 8.7 (978421 votes).',\n",
       "     u'Runtime': u' 121, 125(special edition).',\n",
       "     u'Title': u' Star Wars (1977)',\n",
       "     u'Writer': u' George Lucas.'},\n",
       "    u'_type': u'text'},\n",
       "   {u'_id': u'AVxBNpdKBzF0Aj2q5PpX',\n",
       "    u'_index': u'prueba-index',\n",
       "    u'_score': 1.0,\n",
       "    u'_source': {u'Cast': u' Jean Reno (L\\xe9on), Gary Oldman (Stansfield), Natalie Portman (Mathilda), Danny Aiello (Tony), Peter Appel (Malky).',\n",
       "     u'Country': u' France.',\n",
       "     u'Director': u' Luc Besson.',\n",
       "     u'Genres': u' Crime, Drama, Thriller.',\n",
       "     u'Language': u' English, Italian, French.',\n",
       "     u'Plot': u\" After her father, mother, older sister and little brother are killed by her father's employers, the 12-year-old daughter of an abject drug dealer is forced to take refuge in the apartment of a professional hitman who at her request teaches her the methods of his job so she can take her revenge on the corrupt DEA agent who ruined her life by killing her beloved brother.\",\n",
       "     u'Rating': u' 8.6 (782508 votes).',\n",
       "     u'Runtime': u' 110, France136(uncut version), 133(International version).',\n",
       "     u'Title': u' L\\xe9on (1994)',\n",
       "     u'Writer': u' Luc Besson.'},\n",
       "    u'_type': u'text'}],\n",
       "  u'max_score': 1.0,\n",
       "  u'total': 252},\n",
       " u'timed_out': False,\n",
       " u'took': 47}"
      ]
     },
     "execution_count": 136,
     "metadata": {},
     "output_type": "execute_result"
    }
   ],
   "source": [
    "res = es.search(index=\"prueba-index\", body={\"query\": {\"match_all\": {}}})\n",
    "res"
   ]
  },
  {
   "cell_type": "code",
   "execution_count": 146,
   "metadata": {
    "collapsed": false
   },
   "outputs": [
    {
     "ename": "SyntaxError",
     "evalue": "invalid syntax (<ipython-input-146-6969bc6a6e45>, line 12)",
     "output_type": "error",
     "traceback": [
      "\u001b[0;36m  File \u001b[0;32m\"<ipython-input-146-6969bc6a6e45>\"\u001b[0;36m, line \u001b[0;32m12\u001b[0m\n\u001b[0;31m    })\u001b[0m\n\u001b[0m    ^\u001b[0m\n\u001b[0;31mSyntaxError\u001b[0m\u001b[0;31m:\u001b[0m invalid syntax\n"
     ]
    }
   ],
   "source": [
    "res = es.search(index=\"prueba-index\", body={\n",
    "    \"query\": \n",
    "        {\"match\" : {'Director': 'Christopher Nolan'}\n",
    "    },\n",
    "    {\n",
    "        \"highlight\" : {\n",
    "            \"fields\" : {\n",
    "                \"Language\" : {}\n",
    "            }\n",
    "        }\n",
    "    }\n",
    "})\n",
    "res"
   ]
  },
  {
   "cell_type": "markdown",
   "metadata": {},
   "source": [
    "# Query sin fuzziness\n",
    "**No funciona si le quitas una letra, la query de abajo si al ser fuzzy**"
   ]
  },
  {
   "cell_type": "code",
   "execution_count": 169,
   "metadata": {
    "collapsed": false
   },
   "outputs": [
    {
     "name": "stdout",
     "output_type": "stream",
     "text": [
      "Got 0 Hits:\n"
     ]
    }
   ],
   "source": [
    "res = es.search(index=\"prueba-index\", body={\"query\": {\"match\" : {'Director': 'Christophe Nola'}}})\n",
    "print(\"Got %d Hits:\" % res['hits']['total'])\n",
    "for hit in res['hits']['hits']:\n",
    "    print(\"%(Title)s\" % hit[\"_source\"])"
   ]
  },
  {
   "cell_type": "markdown",
   "metadata": {},
   "source": [
    "# Query con fuzziness añadida"
   ]
  },
  {
   "cell_type": "code",
   "execution_count": 175,
   "metadata": {
    "collapsed": false
   },
   "outputs": [
    {
     "name": "stdout",
     "output_type": "stream",
     "text": [
      "{u'hits': {u'hits': [{u'_score': 2.8601398, u'_type': u'text', u'_id': u'AVxBNtc2BzF0Aj2q5Ppc', u'_source': {u'Rating': u' 8.6 (1047888 votes).', u'Genres': u' Adventure, Drama, Sci-Fi.', u'Language': u' English.', u'Title': u' Interstellar (2014)', u'Country': u' USA, UK, Canada, Iceland.', u'Writer': u' Jonathan Nolan, Christopher Nolan.', u'Director': u' Christopher Nolan.', u'Cast': u' Ellen Burstyn (Murph), Matthew McConaughey (Cooper), Mackenzie Foy (Murph), John Lithgow (Donald), Timoth\\xe9e Chalamet (Tom).', u'Plot': u\" Earth's future has been riddled by disasters, famines, and droughts. There is only one way to ensure mankind's survival Interstellar travel. A newly discovered wormhole in the far reaches of our solar system allows a team of astronauts to go where no man has gone before, a planet that may have the right environment to sustain human life.\", u'Runtime': u' 169.'}, u'_index': u'prueba-index'}, {u'_score': 2.4529686, u'_type': u'text', u'_id': u'AVxBNhCtBzF0Aj2q5PpK', u'_source': {u'Rating': u' 8.8 (1583769 votes).', u'Genres': u' Action, Adventure, Sci-Fi, Thriller.', u'Language': u' English, Japanese, French.', u'Title': u' Inception (2010)', u'Country': u' USA, UK.', u'Writer': u' Christopher Nolan.', u'Director': u' Christopher Nolan.', u'Cast': u' Leonardo DiCaprio (Cobb), Joseph Gordon-Levitt (Arthur), Ellen Page (Ariadne), Tom Hardy (Eames), Ken Watanabe (Saito).', u'Plot': u\" Dom Cobb is a skilled thief, the absolute best in the dangerous art of extraction, stealing valuable secrets from deep within the subconscious during the dream state, when the mind is at its most vulnerable. Cobb's rare ability has made him a coveted player in this treacherous new world of corporate espionage, but it has also made him an international fugitive and cost him everything he has ever loved. Now Cobb is being offered a chance at redemption. One last job could give him his life back but only if he can accomplish the impossible - inception. Instead of the perfect heist, Cobb and his team of specialists have to pull off the reverse their task is not to steal an idea but to plant one. If they succeed, it could be the perfect crime. But no amount of careful planning or expertise can prepare the team for the dangerous enemy that seems to predict their every move. An enemy that only Cobb could have seen coming.\", u'Runtime': u' 148.'}, u'_index': u'prueba-index'}, {u'_score': 2.4529686, u'_type': u'text', u'_id': u'AVxBNZS7BzF0Aj2q5PpA', u'_source': {u'Rating': u' 9.0 (1792052 votes).', u'Genres': u' Action, Crime, Drama, Thriller.', u'Language': u' English, Mandarin.', u'Title': u' Dark Knight, The (2008)', u'Country': u' USA, UK.', u'Writer': u' Jonathan Nolan, Christopher Nolan, Christopher Nolan, David S. Goyer, Bob Kane.', u'Director': u' Christopher Nolan.', u'Cast': u' Christian Bale (Bruce Wayne), Heath Ledger (Joker), Aaron Eckhart (Harvey Dent), Michael Caine (Alfred), Maggie Gyllenhaal (Rachel).', u'Plot': u' Set within a year after the events of Batman Begins, Batman, Lieutenant James Gordon, and new district attorney Harvey Dent successfully begin to round up the criminals that plague Gotham City until a mysterious and sadistic criminal mastermind known only as the Joker appears in Gotham, creating a new wave of chaos. Batman\\'s struggle against the Joker becomes deeply personal, forcing him to \"confront everything he believes\" and improve his technology to stop him. A love triangle develops between Bruce Wayne, Dent and Rachel Dawes.', u'Runtime': u' 152.'}, u'_index': u'prueba-index'}, {u'_score': 2.1468499, u'_type': u'text', u'_id': u'AVxBOD9qBzF0Aj2q5Pp7', u'_source': {u'Rating': u' 8.5 (1222737 votes).', u'Genres': u' Action, Thriller.', u'Language': u' English, Arabic.', u'Title': u' Dark Knight Rises, The (2012)', u'Country': u' UK, USA.', u'Writer': u' Jonathan Nolan, Christopher Nolan, Christopher Nolan, David S. Goyer, Bob Kane.', u'Director': u' Christopher Nolan.', u'Cast': u' Christian Bale (Bruce Wayne), Gary Oldman (Commissioner Gordon), Tom Hardy (Bane), Joseph Gordon-Levitt (Blake), Anne Hathaway (Selina).', u'Plot': u\" Despite his tarnished reputation after the events of The Dark Knight, in which he took the rap for Dent's crimes, Batman feels compelled to intervene to assist the city and its police force which is struggling to cope with Bane's plans to destroy the city.\", u'Runtime': u' 164.'}, u'_index': u'prueba-index'}, {u'_score': 2.1468499, u'_type': u'text', u'_id': u'AVxBN4ASBzF0Aj2q5Ppr', u'_source': {u'Rating': u' 8.5 (903822 votes).', u'Genres': u' Mystery, Thriller.', u'Language': u' English.', u'Title': u' Memento (2000)', u'Country': u' USA.', u'Writer': u' Christopher Nolan, Jonathan Nolan.', u'Director': u' Christopher Nolan.', u'Cast': u' Guy Pearce (Leonard), Carrie-Anne Moss (Natalie), Joe Pantoliano (Teddy), Mark Boone Junior (Burt), Russ Fega (Waiter).', u'Plot': u' Memento chronicles two separate stories of Leonard, an ex-insurance investigator who can no longer build new memories, as he attempts to find the murderer of his wife, which is the last thing he remembers. One story line moves forward in time while the other tells the story backwards revealing more each time.', u'Runtime': u' 113.'}, u'_index': u'prueba-index'}, {u'_score': 1.9967351, u'_type': u'text', u'_id': u'AVxBN424BzF0Aj2q5Pps', u'_source': {u'Rating': u' 8.5 (913236 votes).', u'Genres': u' Drama, Mystery, Sci-Fi, Thriller.', u'Language': u' English.', u'Title': u' Prestige, The (2006)', u'Country': u' USA, UK.', u'Writer': u' Jonathan Nolan, Christopher Nolan, Christopher Priest.', u'Director': u' Christopher Nolan.', u'Cast': u' Hugh Jackman (Robert Angier), Christian Bale (Alfred Borden), Michael Caine (Cutter), Piper Perabo (Julia McCullough), Rebecca Hall (Sarah).', u'Plot': u' In the end of the Nineteenth Century, in London, Robert Angier, his beloved wife Julia McCullough and Alfred Borden are friends and assistants of a magician. When Julia accidentally dies during a performance, Robert blames Alfred for her death and they become enemies. Both become famous and rival magicians, sabotaging the performance of the other on the stage. When Alfred performs a successful trick, Robert becomes obsessed trying to disclose the secret of his competitor with tragic consequences.', u'Runtime': u' 130.'}, u'_index': u'prueba-index'}, {u'_score': 1.9967351, u'_type': u'text', u'_id': u'AVxBOnXUBzF0Aj2q5Pqv', u'_source': {u'Rating': u' 8.3 (1048575 votes).', u'Genres': u' Action, Adventure.', u'Language': u' English, Urdu, Mandarin.', u'Title': u' Batman Begins (2005)', u'Country': u' USA, UK.', u'Writer': u' Bob Kane, David S. Goyer, Christopher Nolan, David S. Goyer.', u'Director': u' Christopher Nolan.', u'Cast': u' Christian Bale (Bruce Wayne / Batman), Michael Caine (Alfred), Liam Neeson (Ducard), Katie Holmes (Rachel Dawes), Gary Oldman (Jim Gordon).', u'Plot': u\" When his parents are killed, billionaire playboy Bruce Wayne relocates to Asia where he is mentored by Henri Ducard and Ra's Al Ghul in how to fight evil. When learning about the plan to wipe out evil in Gotham City by Ducard, Bruce prevents this plan from getting any further and heads back to his home. Back in his original surroundings, Bruce adopts the image of a bat to strike fear into the criminals and the corrupt as the icon known as 'Batman'. But it doesn't stay quiet for long.\", u'Runtime': u' 140, 128(default).'}, u'_index': u'prueba-index'}], u'total': 7, u'max_score': 2.8601398}, u'_shards': {u'successful': 5, u'failed': 0, u'total': 5}, u'took': 113, u'timed_out': False}\n",
      "Got 7 Hits:\n",
      " Interstellar (2014)\n",
      " Inception (2010)\n",
      " Dark Knight, The (2008)\n",
      " Dark Knight Rises, The (2012)\n",
      " Memento (2000)\n",
      " Prestige, The (2006)\n",
      " Batman Begins (2005)\n"
     ]
    }
   ],
   "source": [
    "bodyQuery = {\n",
    "    \"query\": {\n",
    "        \"match\": {\n",
    "            \"Director\": {\n",
    "                \"query\": \"Christoph\",\n",
    "                \"fuzziness\": \"AUTO\",\n",
    "                \"operator\": \"and\"\n",
    "            }\n",
    "        }\n",
    "    },\n",
    "    \"highlight\" : {\n",
    "        \"fields\" : {\n",
    "            \"Title\" : {},\n",
    "            \"Plot\" : {}\n",
    "        }\n",
    "    }\n",
    "}\n",
    "res = es.search(index=\"prueba-index\", body=bodyQuery)\n",
    "print res\n",
    "print(\"Got %d Hits:\" % res['hits']['total'])\n",
    "for hit in res['hits']['hits']:\n",
    "    print(\"%(Title)s\" % hit[\"_source\"])"
   ]
  },
  {
   "cell_type": "markdown",
   "metadata": {},
   "source": [
    "# Query 2 con highlight de distintos campos y la forma de mostrarlo"
   ]
  },
  {
   "cell_type": "code",
   "execution_count": 200,
   "metadata": {
    "collapsed": false
   },
   "outputs": [
    {
     "name": "stdout",
     "output_type": "stream",
     "text": [
      "Got 1 Hits:\n",
      "{u'Plot': [u\" Earth's future has been riddled by disasters, famines, and droughts. There is only one way to ensure mankind's survival <em>Interstellar</em> travel. A newly\"], u'Title': [u' <em>Interstellar</em> (2014)']}\n"
     ]
    }
   ],
   "source": [
    "bodyQuery2 = {\n",
    "    \"query\": {\n",
    "        \"match\": {\n",
    "            \"Title\": {\n",
    "                \"query\": \"Interstellar\",\n",
    "                \"fuzziness\": \"AUTO\",\n",
    "                \"operator\": \"and\"\n",
    "            }\n",
    "        }\n",
    "    },\n",
    "    \"highlight\" : {\n",
    "        \"fields\" : {\n",
    "            \"Title\" : {},\n",
    "            \"Plot\" : {\"fragment_size\" : 150, \"number_of_fragments\" : 3}\n",
    "        },\n",
    "        #Permite el hightlight sobre campos que no se han hecho query\n",
    "        #como Plot en este ejemplo\n",
    "        \"require_field_match\" : False\n",
    "    }\n",
    "}\n",
    "res = es.search(index=\"prueba-index\", body=bodyQuery2)\n",
    "print(\"Got %d Hits:\" % res['hits']['total'])\n",
    "# Uso el [0] porque solo hay 1 hit, si hubiese mas, pues habria mas campos\n",
    "# de la lista, habria que usar el for de arriba para sacar el highlight de\n",
    "# cada uno de la lista\n",
    "print res['hits']['hits'][0]['highlight']\n"
   ]
  },
  {
   "cell_type": "markdown",
   "metadata": {},
   "source": [
    "# Borrar datos"
   ]
  },
  {
   "cell_type": "code",
   "execution_count": null,
   "metadata": {
    "collapsed": false
   },
   "outputs": [],
   "source": [
    "es.delete(index='prueba-index', doc_type='text', id=1)"
   ]
  }
 ],
 "metadata": {
  "kernelspec": {
   "display_name": "Python 2",
   "language": "python",
   "name": "python2"
  },
  "language_info": {
   "codemirror_mode": {
    "name": "ipython",
    "version": 2
   },
   "file_extension": ".py",
   "mimetype": "text/x-python",
   "name": "python",
   "nbconvert_exporter": "python",
   "pygments_lexer": "ipython2",
   "version": "2.7.13"
  }
 },
 "nbformat": 4,
 "nbformat_minor": 2
}
