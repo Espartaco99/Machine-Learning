{
 "cells": [
  {
   "cell_type": "markdown",
   "metadata": {
    "collapsed": false
   },
   "source": [
    "# 1. Preparar los datos para aplicar algoritmos de ML\n",
    "\n",
    "\n"
   ]
  },
  {
   "cell_type": "code",
   "execution_count": null,
   "metadata": {
    "collapsed": true
   },
   "outputs": [],
   "source": [
    "\n",
    "# 1 Importamos las librerias que vamos a necesitar\n",
    "import pandas as pd\n",
    "from numpy import random\n",
    "import matplotlib.pyplot as plt\n",
    "import sys #only needed to determine Python version number\n",
    "import matplotlib #only needed to determine Matplotlib version number\n",
    "\n",
    "# Enable inline plotting\n",
    "%matplotlib inline\n",
    "\n",
    "print('Python version ' + sys.version)\n",
    "print('Pandas version ' + pd.__version__)\n",
    "print('Matplotlib version ' + matplotlib.__version__)"
   ]
  },
  {
   "cell_type": "code",
   "execution_count": 2,
   "metadata": {
    "collapsed": false,
    "scrolled": false
   },
   "outputs": [
    {
     "name": "stdout",
     "output_type": "stream",
     "text": [
      "ok\n"
     ]
    }
   ],
   "source": [
    "# Realizamos la lectura del fichero y incluimos en el fichero el nombre de las columnas\n",
    "names_features = [\n",
    "'age',             # Edad del individuo: [17 - 90] media 38, \n",
    "'type_employer',   # Tipo de trabajo : [ State-gov, Self-emp-not-inc, Private, Federal-gov, Local-gov, ?, Self-emp-inc, Without-pay, Never-worked ]\n",
    "'fnlwgt',          # Numero de personas encuestadas\n",
    "'education',       # Nivel mas alto de educacion para el individuo\n",
    "'education-num',   # Nivel mas alto de educacion en forma numerica [1 - 16]\n",
    "'marital-status',  # Estado civil de la persona: [ Never-married, Married-civ-spouse, Divorced, Married-spouse-absent, Separated, Married-AF-spouse, Widowed ]\n",
    "'occupation',      # Ocupacion de la persona: [ Adm-clerical, Exec-managerial, Handlers-cleaners, Prof-specialty, Other-service, Sales, Craft-repair, Transport-moving, Farming-fishing, Machine-op-inspct, Tech-support, ?, Protective-serv, Armed-Forces, Priv-house-serv']\n",
    "'relationship',    # Relacion familiar: [ Not-in-family, Husband, Wife, Own-child, Unmarried, Other-Relative]\n",
    "'race',            # Raza de un individuo: [ White, Black, Asian-Pac-Islander, Amer-Indian-Eskimo, Other ]\n",
    "'sex',             # Sexo de un individuo : [ Male, Female]\n",
    "'capital_gain',    # Ganancias de capital : [ 0 - 99999 ]\n",
    "'capital_loss',    # Perdidas de caapital : [ 0 - 4356 ]\n",
    "'hours-per-week',  # Horas trabajadas por semana : [ 1 - 99 ]\n",
    "'native-country',  # Pais de origen de la persona : [   ]\n",
    "'income'           # Indica si una persona gana o no mas de 50.000        \n",
    "]\n",
    "df = pd.read_csv('adult.txt' , header=None, names=names_features)\n",
    "df.head(3)\n",
    "print('ok')"
   ]
  },
  {
   "cell_type": "code",
   "execution_count": 4,
   "metadata": {
    "collapsed": false
   },
   "outputs": [],
   "source": [
    "columna_unica = df['native-country'].unique()"
   ]
  },
  {
   "cell_type": "code",
   "execution_count": 5,
   "metadata": {
    "collapsed": false
   },
   "outputs": [
    {
     "name": "stdout",
     "output_type": "stream",
     "text": [
      "ok\n"
     ]
    }
   ],
   "source": [
    "# Obtenemos las edades de las personas\n",
    "edad = df['age']\n",
    "\n",
    "# Hacemos una busqueda con las edades que pertenezcan a un rango\n",
    "edad.where( edad < 30 ).where( edad > 18).count()\n",
    "print('ok')\n",
    "#\",\".join(ocupacion )"
   ]
  },
  {
   "cell_type": "markdown",
   "metadata": {},
   "source": [
    "# • Mapea los países en grupos\n",
    "  Agrupamos las personas por ciudad, Las que son de EEUU en uno y los que no son de EEUU en otro"
   ]
  },
  {
   "cell_type": "code",
   "execution_count": 6,
   "metadata": {
    "collapsed": false
   },
   "outputs": [
    {
     "name": "stdout",
     "output_type": "stream",
     "text": [
      "ok\n"
     ]
    }
   ],
   "source": [
    "\n",
    "def isEEUU(x):\n",
    "     \n",
    "    if x == ' United-States':\n",
    "        return 1\n",
    "    else :\n",
    "        return 0\n",
    "  \n",
    "# Aplicamos una funcion a la columna, para convertir los valores en enumerados\n",
    "enum_isEEUU = df[\"native-country\"].apply(isEEUU)\n",
    "\n",
    "# Cramos la nueva columna enum_isEEUU con los datos anteriores\n",
    "df[\"enum_isEEUU\"] = enum_isEEUU    \n",
    "print('ok')"
   ]
  },
  {
   "cell_type": "markdown",
   "metadata": {},
   "source": [
    "# • Mapeamos las razas"
   ]
  },
  {
   "cell_type": "code",
   "execution_count": 7,
   "metadata": {
    "collapsed": false,
    "scrolled": true
   },
   "outputs": [
    {
     "name": "stdout",
     "output_type": "stream",
     "text": [
      "ok\n"
     ]
    }
   ],
   "source": [
    "def raceToNumber(x):\n",
    "     \n",
    "    if x == ' Amer-Indian-Eskimo':\n",
    "        return 0\n",
    "    if x == ' Asian-Pac-Islander':\n",
    "        return 1\n",
    "    if x == ' Black':\n",
    "        return 2\n",
    "    if x == ' Other':\n",
    "        return 3\n",
    "    if x == ' White':\n",
    "        return 4\n",
    "    \n",
    "# Aplicamos una funcion a la columna, para convertir los valores en enumerados\n",
    "enum_razas = df[\"race\"].apply(raceToNumber)\n",
    "\n",
    "# Cramos la nueva columna enum_razas con los datos anteriores\n",
    "df[\"enum_razas\"] = enum_razas\n",
    "print('ok')"
   ]
  },
  {
   "cell_type": "markdown",
   "metadata": {},
   "source": [
    "# • Mapea el tipo de trabajo"
   ]
  },
  {
   "cell_type": "code",
   "execution_count": 12,
   "metadata": {
    "collapsed": false,
    "scrolled": true
   },
   "outputs": [
    {
     "name": "stdout",
     "output_type": "stream",
     "text": [
      "ok\n"
     ]
    }
   ],
   "source": [
    "def type_employerToNumber(x):\n",
    "     \n",
    "    if x.strip() == 'State-gov':\n",
    "        return 0\n",
    "    if x.strip() == 'Self-emp-not-inc':\n",
    "        return 1\n",
    "    if x.strip() == 'Private':\n",
    "        return 2\n",
    "    if x.strip() == 'Federal-gov':\n",
    "        return 3\n",
    "    if x.strip() == 'Local-gov':\n",
    "        return 4\n",
    "    if x.strip() == 'Self-emp-inc':\n",
    "        return 5\n",
    "    if x.strip() == 'Without-pay':\n",
    "        return 6\n",
    "    if x.strip() == 'Never-worked':\n",
    "        return 7\n",
    "    if x.strip() == '?':\n",
    "        return 8\n",
    "    \n",
    "# Aplicamos una funcion a la columna, para convertir los valores en enumerados\n",
    "enum_type_employer = df[\"type_employer\"].apply(type_employerToNumber)\n",
    "\n",
    "# Cramos la nueva columna enum_razas con los datos anteriores\n",
    "df[\"enum_type_employer\"] = enum_type_employer\n",
    "print('ok')"
   ]
  },
  {
   "cell_type": "markdown",
   "metadata": {},
   "source": [
    "# •  Mapea el tipo de familia"
   ]
  },
  {
   "cell_type": "code",
   "execution_count": 13,
   "metadata": {
    "collapsed": false
   },
   "outputs": [
    {
     "name": "stdout",
     "output_type": "stream",
     "text": [
      "ok\n"
     ]
    }
   ],
   "source": [
    "def relationshipToNumber(x):\n",
    "     \n",
    "    if x.strip() == 'Not-in-family':\n",
    "        return 0\n",
    "    if x.strip() == 'Husband':\n",
    "        return 1\n",
    "    if x.strip() == 'Wife':\n",
    "        return 2\n",
    "    if x.strip() == 'Own-child':\n",
    "        return 3\n",
    "    if x.strip() == 'Unmarried':\n",
    "        return 4\n",
    "    if x.strip() == 'Other-relative':\n",
    "        return 5\n",
    "    \n",
    "# Aplicamos una funcion a la columna, para convertir los valores en enumerados\n",
    "enum_relationship = df[\"relationship\"].apply(relationshipToNumber)\n",
    "\n",
    "# Cramos la nueva columna enum_razas con los datos anteriores\n",
    "df[\"enum_relationship\"] = enum_relationship\n",
    "print('ok')"
   ]
  },
  {
   "cell_type": "markdown",
   "metadata": {},
   "source": [
    "# 2. Haz visualizaciones de diferentes valores con seaborn.\n",
    "Describe lo que ves en las visualizaciones"
   ]
  },
  {
   "cell_type": "code",
   "execution_count": null,
   "metadata": {
    "collapsed": true
   },
   "outputs": [],
   "source": []
  },
  {
   "cell_type": "markdown",
   "metadata": {},
   "source": [
    "# 4. Utiliza random forest con diferentes parámetros, diferentes features, y cross_validation para conseguir el mejor modelo posible."
   ]
  },
  {
   "cell_type": "code",
   "execution_count": 11,
   "metadata": {
    "collapsed": false
   },
   "outputs": [
    {
     "name": "stdout",
     "output_type": "stream",
     "text": [
      "[ 0.89574697  0.89588452  0.89588452  0.89588452  0.89588452]\n"
     ]
    }
   ],
   "source": [
    "from sklearn import svm\n",
    "from sklearn.model_selection import cross_val_score\n",
    "import pandas as pd\n",
    "import numpy as np\n",
    "\n",
    "# modelo\n",
    "modelo_svm = svm.SVC(kernel='linear', C=1)\n",
    "\n",
    "# Seleccionamos las features con las que vamos a usar el algoritmo\n",
    "\n",
    "#features = [\"education-num\",\"capital_gain\",\"capital_loss\"]\n",
    "#features = [\"education-num\"]\n",
    "features = [\"capital_loss\"]\n",
    "\n",
    "X = df[features]       # features\n",
    "y = df[\"enum_isEEUU\"]  # targets\n",
    "\n",
    "#SCORE\n",
    "scores = cross_val_score(modelo_svm, X, y, cv = 5)\n",
    "print(scores)\n"
   ]
  },
  {
   "cell_type": "code",
   "execution_count": null,
   "metadata": {
    "collapsed": false
   },
   "outputs": [],
   "source": []
  },
  {
   "cell_type": "code",
   "execution_count": null,
   "metadata": {
    "collapsed": false
   },
   "outputs": [],
   "source": []
  },
  {
   "cell_type": "code",
   "execution_count": null,
   "metadata": {
    "collapsed": true
   },
   "outputs": [],
   "source": []
  },
  {
   "cell_type": "code",
   "execution_count": null,
   "metadata": {
    "collapsed": true
   },
   "outputs": [],
   "source": []
  },
  {
   "cell_type": "code",
   "execution_count": null,
   "metadata": {
    "collapsed": true
   },
   "outputs": [],
   "source": []
  },
  {
   "cell_type": "code",
   "execution_count": null,
   "metadata": {
    "collapsed": true
   },
   "outputs": [],
   "source": []
  },
  {
   "cell_type": "code",
   "execution_count": null,
   "metadata": {
    "collapsed": true
   },
   "outputs": [],
   "source": []
  },
  {
   "cell_type": "code",
   "execution_count": null,
   "metadata": {
    "collapsed": true
   },
   "outputs": [],
   "source": []
  },
  {
   "cell_type": "code",
   "execution_count": null,
   "metadata": {
    "collapsed": true
   },
   "outputs": [],
   "source": []
  },
  {
   "cell_type": "code",
   "execution_count": null,
   "metadata": {
    "collapsed": true
   },
   "outputs": [],
   "source": []
  },
  {
   "cell_type": "code",
   "execution_count": null,
   "metadata": {
    "collapsed": true
   },
   "outputs": [],
   "source": []
  },
  {
   "cell_type": "code",
   "execution_count": null,
   "metadata": {
    "collapsed": true
   },
   "outputs": [],
   "source": []
  },
  {
   "cell_type": "code",
   "execution_count": null,
   "metadata": {
    "collapsed": true
   },
   "outputs": [],
   "source": []
  },
  {
   "cell_type": "code",
   "execution_count": null,
   "metadata": {
    "collapsed": true
   },
   "outputs": [],
   "source": []
  },
  {
   "cell_type": "code",
   "execution_count": null,
   "metadata": {
    "collapsed": true
   },
   "outputs": [],
   "source": []
  }
 ],
 "metadata": {
  "kernelspec": {
   "display_name": "Python 2",
   "language": "python",
   "name": "python2"
  },
  "language_info": {
   "codemirror_mode": {
    "name": "ipython",
    "version": 2
   },
   "file_extension": ".py",
   "mimetype": "text/x-python",
   "name": "python",
   "nbconvert_exporter": "python",
   "pygments_lexer": "ipython2",
   "version": "2.7.13"
  }
 },
 "nbformat": 4,
 "nbformat_minor": 2
}
