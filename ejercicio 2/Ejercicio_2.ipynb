{
 "cells": [
  {
   "cell_type": "markdown",
   "metadata": {
    "collapsed": false,
    "deletable": true,
    "editable": true
   },
   "source": [
    "# 1. Preparar los datos para aplicar algoritmos de ML\n",
    "## 1.1 Importamos las librerias que vamos a necesitar\n",
    "\n",
    "\n"
   ]
  },
  {
   "cell_type": "code",
   "execution_count": 1,
   "metadata": {
    "collapsed": false,
    "deletable": true,
    "editable": true
   },
   "outputs": [
    {
     "name": "stdout",
     "output_type": "stream",
     "text": [
      "Python version 2.7.13 |Continuum Analytics, Inc.| (default, Dec 20 2016, 23:09:15) \n",
      "[GCC 4.4.7 20120313 (Red Hat 4.4.7-1)]\n",
      "Pandas version 0.19.2\n",
      "Matplotlib version 2.0.0\n"
     ]
    }
   ],
   "source": [
    "import sys #only needed to determine Python version number\n",
    "\n",
    "# Handle table-like data and matrices\n",
    "import numpy as np\n",
    "import pandas as pd\n",
    "\n",
    "# Visualisation\n",
    "import matplotlib as mpl\n",
    "import matplotlib.pyplot as plt\n",
    "import matplotlib.pylab as pylab\n",
    "import seaborn as sns\n",
    "\n",
    "# Enable inline plotting\n",
    "%matplotlib inline\n",
    "\n",
    "print('Python version ' + sys.version)\n",
    "print('Pandas version ' + pd.__version__)\n",
    "print('Matplotlib version ' + mpl.__version__)"
   ]
  },
  {
   "cell_type": "code",
   "execution_count": 2,
   "metadata": {
    "collapsed": false,
    "deletable": true,
    "editable": true,
    "scrolled": false
   },
   "outputs": [
    {
     "name": "stdout",
     "output_type": "stream",
     "text": [
      "ok\n"
     ]
    }
   ],
   "source": [
    "# Realizamos la lectura del fichero y incluimos en el fichero el nombre de las columnas\n",
    "names_features = [\n",
    "'age',             # Edad del individuo: [17 - 90] media 38, \n",
    "'type_employer',   # Tipo de trabajo : [ State-gov, Self-emp-not-inc, Private, Federal-gov, Local-gov, ?, Self-emp-inc, Without-pay, Never-worked ]\n",
    "'fnlwgt',          # Numero de personas encuestadas\n",
    "'education',       # Nivel mas alto de educacion para el individuo\n",
    "'education-num',   # Nivel mas alto de educacion en forma numerica [1 - 16]\n",
    "'marital-status',  # Estado civil de la persona: [ Never-married, Married-civ-spouse, Divorced, Married-spouse-absent, Separated, Married-AF-spouse, Widowed ]\n",
    "'occupation',      # Ocupacion de la persona: [ Adm-clerical, Exec-managerial, Handlers-cleaners, Prof-specialty, Other-service, Sales, Craft-repair, Transport-moving, Farming-fishing, Machine-op-inspct, Tech-support, ?, Protective-serv, Armed-Forces, Priv-house-serv']\n",
    "'relationship',    # Relacion familiar: [ Not-in-family, Husband, Wife, Own-child, Unmarried, Other-Relative]\n",
    "'race',            # Raza de un individuo: [ White, Black, Asian-Pac-Islander, Amer-Indian-Eskimo, Other ]\n",
    "'sex',             # Sexo de un individuo : [ Male, Female]\n",
    "'capital_gain',    # Ganancias de capital : [ 0 - 99999 ]\n",
    "'capital_loss',    # Perdidas de caapital : [ 0 - 4356 ]\n",
    "'hours-per-week',  # Horas trabajadas por semana : [ 1 - 99 ]\n",
    "'native-country',  # Pais de origen de la persona : [   ]\n",
    "'income'           # Indica si una persona gana o no mas de 50.000        \n",
    "]\n",
    "df = pd.read_csv('adult.txt' , header=None, names=names_features)\n",
    "df.head(3)\n",
    "print(\"ok\")"
   ]
  },
  {
   "cell_type": "code",
   "execution_count": 5,
   "metadata": {
    "collapsed": false,
    "deletable": true,
    "editable": true
   },
   "outputs": [],
   "source": [
    "columna_unica = df['native-country'].unique()"
   ]
  },
  {
   "cell_type": "code",
   "execution_count": 3,
   "metadata": {
    "collapsed": false,
    "deletable": true,
    "editable": true
   },
   "outputs": [
    {
     "name": "stdout",
     "output_type": "stream",
     "text": [
      "ok\n"
     ]
    }
   ],
   "source": [
    "# Obtenemos las edades de las personas\n",
    "edad = df['age']\n",
    "\n",
    "# Hacemos una b usqueda con las edades que pertenezcan a un rango\n",
    "edad.where( edad < 30 ).where( edad > 18).count()\n",
    "print('ok')\n",
    "#\",\".join(ocupacion )"
   ]
  },
  {
   "cell_type": "markdown",
   "metadata": {
    "deletable": true,
    "editable": true
   },
   "source": [
    "# • Mapea los países en grupos\n",
    "  Agrupamos las personas por ciudad, Las que son de EEUU en uno y los que no son de EEUU en otro"
   ]
  },
  {
   "cell_type": "code",
   "execution_count": 3,
   "metadata": {
    "collapsed": false,
    "deletable": true,
    "editable": true
   },
   "outputs": [
    {
     "name": "stdout",
     "output_type": "stream",
     "text": [
      "ok\n"
     ]
    }
   ],
   "source": [
    "def isEEUU(x):\n",
    "     \n",
    "    if x == ' United-States':\n",
    "        return 1\n",
    "    else :\n",
    "        return 0\n",
    "  \n",
    "# Aplicamos una funcion a la columna, para convertir los valores en enumerados\n",
    "enum_isEEUU = df[\"native-country\"].apply(isEEUU)\n",
    "\n",
    "# Cramos la nueva columna enum_isEEUU con los datos anteriores\n",
    "df[\"enum_isEEUU\"] = enum_isEEUU    \n",
    "print('ok')"
   ]
  },
  {
   "cell_type": "markdown",
   "metadata": {
    "deletable": true,
    "editable": true
   },
   "source": [
    "# • Mapeamos las razas"
   ]
  },
  {
   "cell_type": "code",
   "execution_count": 4,
   "metadata": {
    "collapsed": false,
    "deletable": true,
    "editable": true,
    "scrolled": true
   },
   "outputs": [
    {
     "name": "stdout",
     "output_type": "stream",
     "text": [
      "ok\n"
     ]
    }
   ],
   "source": [
    "def raceToNumber(x):\n",
    "     \n",
    "    if x == ' Amer-Indian-Eskimo':\n",
    "        return 0\n",
    "    if x == ' Asian-Pac-Islander':\n",
    "        return 1\n",
    "    if x == ' Black':\n",
    "        return 2\n",
    "    if x == ' Other':\n",
    "        return 3\n",
    "    if x == ' White':\n",
    "        return 4\n",
    "    \n",
    "# Aplicamos una funcion a la columna, para convertir los valores en enumerados\n",
    "enum_razas = df[\"race\"].apply(raceToNumber)\n",
    "\n",
    "# Cramos la nueva columna enum_razas con los datos anteriores\n",
    "df[\"enum_razas\"] = enum_razas\n",
    "print('ok')"
   ]
  },
  {
   "cell_type": "markdown",
   "metadata": {
    "deletable": true,
    "editable": true
   },
   "source": [
    "# • Mapea el tipo de trabajo"
   ]
  },
  {
   "cell_type": "code",
   "execution_count": 5,
   "metadata": {
    "collapsed": false,
    "deletable": true,
    "editable": true,
    "scrolled": true
   },
   "outputs": [
    {
     "name": "stdout",
     "output_type": "stream",
     "text": [
      "ok\n"
     ]
    }
   ],
   "source": [
    "def type_employerToNumber(x):\n",
    "     \n",
    "    if x.strip() == 'State-gov':\n",
    "        return 0\n",
    "    if x.strip() == 'Self-emp-not-inc':\n",
    "        return 1\n",
    "    if x.strip() == 'Private':\n",
    "        return 2\n",
    "    if x.strip() == 'Federal-gov':\n",
    "        return 3\n",
    "    if x.strip() == 'Local-gov':\n",
    "        return 4\n",
    "    if x.strip() == 'Self-emp-inc':\n",
    "        return 5\n",
    "    if x.strip() == 'Without-pay':\n",
    "        return 6\n",
    "    if x.strip() == 'Never-worked':\n",
    "        return 7\n",
    "    if x.strip() == '?':\n",
    "        return 8\n",
    "    \n",
    "# Aplicamos una funcion a la columna, para convertir los valores en enumerados\n",
    "enum_type_employer = df[\"type_employer\"].apply(type_employerToNumber)\n",
    "\n",
    "# Cramos la nueva columna enum_razas con los datos anteriores\n",
    "df[\"enum_type_employer\"] = enum_type_employer\n",
    "print('ok')"
   ]
  },
  {
   "cell_type": "markdown",
   "metadata": {
    "deletable": true,
    "editable": true
   },
   "source": [
    "# •  Mapea el tipo de familia"
   ]
  },
  {
   "cell_type": "code",
   "execution_count": 6,
   "metadata": {
    "collapsed": false,
    "deletable": true,
    "editable": true
   },
   "outputs": [
    {
     "name": "stdout",
     "output_type": "stream",
     "text": [
      "ok\n"
     ]
    }
   ],
   "source": [
    "def relationshipToNumber(x):\n",
    "     \n",
    "    if x.strip() == 'Not-in-family':\n",
    "        return 0\n",
    "    if x.strip() == 'Husband':\n",
    "        return 1\n",
    "    if x.strip() == 'Wife':\n",
    "        return 2\n",
    "    if x.strip() == 'Own-child':\n",
    "        return 3\n",
    "    if x.strip() == 'Unmarried':\n",
    "        return 4\n",
    "    if x.strip() == 'Other-relative':\n",
    "        return 5\n",
    "    \n",
    "# Aplicamos una funcion a la columna, para convertir los valores en enumerados\n",
    "enum_relationship = df[\"relationship\"].apply(relationshipToNumber)\n",
    "\n",
    "# Cramos la nueva columna enum_razas con los datos anteriores\n",
    "df[\"enum_relationship\"] = enum_relationship\n",
    "print('ok')"
   ]
  },
  {
   "cell_type": "markdown",
   "metadata": {
    "deletable": true,
    "editable": true
   },
   "source": [
    "# 2. Haz visualizaciones de diferentes valores con seaborn.\n",
    "Describe lo que ves en las visualizaciones"
   ]
  },
  {
   "cell_type": "code",
   "execution_count": 7,
   "metadata": {
    "collapsed": false,
    "deletable": true,
    "editable": true
   },
   "outputs": [
    {
     "data": {
      "image/png": "[encoded data removed]",
      "text/plain": [
       "<matplotlib.figure.Figure at 0x7f634b0b8a50>"
      ]
     },
     "metadata": {},
     "output_type": "display_data"
    }
   ],
   "source": [
    "'''\n",
    "2.2 Funcion que muestra la correlacion entre todas las features\n",
    "'''\n",
    "def plot_correlation_map( df ):\n",
    "    corr = df.corr()\n",
    "    _ , ax = plt.subplots( figsize =( 12 , 10 ) )\n",
    "    cmap = sns.diverging_palette( 220 , 10 , as_cmap = True )\n",
    "    _ = sns.heatmap(\n",
    "        corr, \n",
    "        cmap = cmap,\n",
    "        square=True, \n",
    "        cbar_kws={ 'shrink' : .9 }, \n",
    "        ax=ax, \n",
    "        annot = True, \n",
    "        annot_kws = { 'fontsize' : 12 }\n",
    "    )\n",
    "\n",
    "plot_correlation_map( df )"
   ]
  },
  {
   "cell_type": "markdown",
   "metadata": {
    "deletable": true,
    "editable": true
   },
   "source": [
    "# 4. Utiliza random forest con diferentes parámetros, diferentes features, y cross_validation para conseguir el mejor modelo posible."
   ]
  },
  {
   "cell_type": "code",
   "execution_count": 22,
   "metadata": {
    "collapsed": false,
    "deletable": true,
    "editable": true
   },
   "outputs": [
    {
     "name": "stdout",
     "output_type": "stream",
     "text": [
      "0.913086230676\n"
     ]
    }
   ],
   "source": [
    "from sklearn import svm\n",
    "from sklearn.model_selection import cross_val_score\n",
    "from sklearn.ensemble import RandomForestClassifier\n",
    "import pandas as pd\n",
    "import numpy as np\n",
    "\n",
    "# modelo\n",
    "modelo_svm = RandomForestClassifier(n_estimators = 15)\n",
    "\n",
    "# Seleccionamos las features con las que vamos a usar el algoritmo\n",
    "features = [\"enum_razas\",\"enum_type_employer\",\"education-num\",\"capital_gain\",\"capital_loss\",\"enum_relationship\"]\n",
    "\n",
    "X = df[features]\n",
    "y = df[\"enum_isEEUU\"]  # targets\n",
    "\n",
    "\n",
    "#SCORE\n",
    "scores = cross_val_score(modelo_svm, X, y, cv = 5)\n",
    "print(scores.mean())\n"
   ]
  },
  {
   "cell_type": "code",
   "execution_count": 23,
   "metadata": {
    "collapsed": false,
    "deletable": true,
    "editable": true
   },
   "outputs": [],
   "source": [
    "RandomForestClassifier?\n",
    "\n"
   ]
  },
  {
   "cell_type": "code",
   "execution_count": 5,
   "metadata": {
    "collapsed": false,
    "deletable": true,
    "editable": true
   },
   "outputs": [
    {
     "data": {
      "text/plain": [
       "(32561, 15)"
      ]
     },
     "execution_count": 5,
     "metadata": {},
     "output_type": "execute_result"
    }
   ],
   "source": []
  },
  {
   "cell_type": "code",
   "execution_count": null,
   "metadata": {
    "collapsed": true,
    "deletable": true,
    "editable": true
   },
   "outputs": [],
   "source": []
  },
  {
   "cell_type": "code",
   "execution_count": null,
   "metadata": {
    "collapsed": true,
    "deletable": true,
    "editable": true
   },
   "outputs": [],
   "source": []
  },
  {
   "cell_type": "code",
   "execution_count": null,
   "metadata": {
    "collapsed": true,
    "deletable": true,
    "editable": true
   },
   "outputs": [],
   "source": []
  },
  {
   "cell_type": "code",
   "execution_count": null,
   "metadata": {
    "collapsed": true,
    "deletable": true,
    "editable": true
   },
   "outputs": [],
   "source": []
  },
  {
   "cell_type": "code",
   "execution_count": null,
   "metadata": {
    "collapsed": true,
    "deletable": true,
    "editable": true
   },
   "outputs": [],
   "source": []
  },
  {
   "cell_type": "code",
   "execution_count": null,
   "metadata": {
    "collapsed": true,
    "deletable": true,
    "editable": true
   },
   "outputs": [],
   "source": []
  },
  {
   "cell_type": "code",
   "execution_count": null,
   "metadata": {
    "collapsed": true,
    "deletable": true,
    "editable": true
   },
   "outputs": [],
   "source": []
  },
  {
   "cell_type": "code",
   "execution_count": null,
   "metadata": {
    "collapsed": true,
    "deletable": true,
    "editable": true
   },
   "outputs": [],
   "source": []
  },
  {
   "cell_type": "code",
   "execution_count": null,
   "metadata": {
    "collapsed": true,
    "deletable": true,
    "editable": true
   },
   "outputs": [],
   "source": []
  },
  {
   "cell_type": "code",
   "execution_count": null,
   "metadata": {
    "collapsed": true,
    "deletable": true,
    "editable": true
   },
   "outputs": [],
   "source": []
  },
  {
   "cell_type": "code",
   "execution_count": null,
   "metadata": {
    "collapsed": true,
    "deletable": true,
    "editable": true
   },
   "outputs": [],
   "source": []
  },
  {
   "cell_type": "code",
   "execution_count": null,
   "metadata": {
    "collapsed": true,
    "deletable": true,
    "editable": true
   },
   "outputs": [],
   "source": []
  },
  {
   "cell_type": "code",
   "execution_count": null,
   "metadata": {
    "collapsed": true,
    "deletable": true,
    "editable": true
   },
   "outputs": [],
   "source": []
  }
 ],
 "metadata": {
  "kernelspec": {
   "display_name": "Python 2",
   "language": "python",
   "name": "python2"
  },
  "language_info": {
   "codemirror_mode": {
    "name": "ipython",
    "version": 2
   },
   "file_extension": ".py",
   "mimetype": "text/x-python",
   "name": "python",
   "nbconvert_exporter": "python",
   "pygments_lexer": "ipython2",
   "version": "2.7.13"
  }
 },
 "nbformat": 4,
 "nbformat_minor": 2
}
